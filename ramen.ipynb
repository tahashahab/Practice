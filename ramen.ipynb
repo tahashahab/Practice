{
 "metadata": {
  "language_info": {
   "codemirror_mode": {
    "name": "ipython",
    "version": 3
   },
   "file_extension": ".py",
   "mimetype": "text/x-python",
   "name": "python",
   "nbconvert_exporter": "python",
   "pygments_lexer": "ipython3",
   "version": "3.7.3-final"
  },
  "orig_nbformat": 2,
  "kernelspec": {
   "name": "python3",
   "display_name": "Python 3"
  }
 },
 "nbformat": 4,
 "nbformat_minor": 2,
 "cells": [
  {
   "cell_type": "code",
   "execution_count": 107,
   "metadata": {},
   "outputs": [],
   "source": [
    "import numpy as np\n",
    "import pandas as pd \n",
    "import matplotlib.pyplot as plt \n",
    "import seaborn as sns \n",
    "import scipy as sm\n",
    "%matplotlib inline"
   ]
  },
  {
   "cell_type": "code",
   "execution_count": 108,
   "metadata": {},
   "outputs": [],
   "source": [
    "ramen = pd.read_csv('ramen-ratings.csv')"
   ]
  },
  {
   "cell_type": "code",
   "execution_count": 109,
   "metadata": {},
   "outputs": [
    {
     "output_type": "execute_result",
     "data": {
      "text/plain": [
       "   Review #           Brand  \\\n",
       "0      2580       New Touch   \n",
       "1      2579        Just Way   \n",
       "2      2578          Nissin   \n",
       "3      2577         Wei Lih   \n",
       "4      2576  Ching's Secret   \n",
       "\n",
       "                                             Variety Style Country Stars  \\\n",
       "0                          T's Restaurant Tantanmen    Cup   Japan  3.75   \n",
       "1  Noodles Spicy Hot Sesame Spicy Hot Sesame Guan...  Pack  Taiwan     1   \n",
       "2                      Cup Noodles Chicken Vegetable   Cup     USA  2.25   \n",
       "3                      GGE Ramen Snack Tomato Flavor  Pack  Taiwan  2.75   \n",
       "4                                    Singapore Curry  Pack   India  3.75   \n",
       "\n",
       "  Top Ten  \n",
       "0     NaN  \n",
       "1     NaN  \n",
       "2     NaN  \n",
       "3     NaN  \n",
       "4     NaN  "
      ],
      "text/html": "<div>\n<style scoped>\n    .dataframe tbody tr th:only-of-type {\n        vertical-align: middle;\n    }\n\n    .dataframe tbody tr th {\n        vertical-align: top;\n    }\n\n    .dataframe thead th {\n        text-align: right;\n    }\n</style>\n<table border=\"1\" class=\"dataframe\">\n  <thead>\n    <tr style=\"text-align: right;\">\n      <th></th>\n      <th>Review #</th>\n      <th>Brand</th>\n      <th>Variety</th>\n      <th>Style</th>\n      <th>Country</th>\n      <th>Stars</th>\n      <th>Top Ten</th>\n    </tr>\n  </thead>\n  <tbody>\n    <tr>\n      <th>0</th>\n      <td>2580</td>\n      <td>New Touch</td>\n      <td>T's Restaurant Tantanmen</td>\n      <td>Cup</td>\n      <td>Japan</td>\n      <td>3.75</td>\n      <td>NaN</td>\n    </tr>\n    <tr>\n      <th>1</th>\n      <td>2579</td>\n      <td>Just Way</td>\n      <td>Noodles Spicy Hot Sesame Spicy Hot Sesame Guan...</td>\n      <td>Pack</td>\n      <td>Taiwan</td>\n      <td>1</td>\n      <td>NaN</td>\n    </tr>\n    <tr>\n      <th>2</th>\n      <td>2578</td>\n      <td>Nissin</td>\n      <td>Cup Noodles Chicken Vegetable</td>\n      <td>Cup</td>\n      <td>USA</td>\n      <td>2.25</td>\n      <td>NaN</td>\n    </tr>\n    <tr>\n      <th>3</th>\n      <td>2577</td>\n      <td>Wei Lih</td>\n      <td>GGE Ramen Snack Tomato Flavor</td>\n      <td>Pack</td>\n      <td>Taiwan</td>\n      <td>2.75</td>\n      <td>NaN</td>\n    </tr>\n    <tr>\n      <th>4</th>\n      <td>2576</td>\n      <td>Ching's Secret</td>\n      <td>Singapore Curry</td>\n      <td>Pack</td>\n      <td>India</td>\n      <td>3.75</td>\n      <td>NaN</td>\n    </tr>\n  </tbody>\n</table>\n</div>"
     },
     "metadata": {},
     "execution_count": 109
    }
   ],
   "source": [
    "ramen.head()"
   ]
  },
  {
   "cell_type": "code",
   "execution_count": 110,
   "metadata": {},
   "outputs": [
    {
     "output_type": "stream",
     "name": "stdout",
     "text": [
      "<class 'pandas.core.frame.DataFrame'>\nRangeIndex: 2580 entries, 0 to 2579\nData columns (total 7 columns):\nReview #    2580 non-null int64\nBrand       2580 non-null object\nVariety     2580 non-null object\nStyle       2578 non-null object\nCountry     2580 non-null object\nStars       2580 non-null object\nTop Ten     41 non-null object\ndtypes: int64(1), object(6)\nmemory usage: 141.2+ KB\n"
     ]
    }
   ],
   "source": [
    "ramen.info()"
   ]
  },
  {
   "source": [
    "Review #: ID for the review. Not necessary.\n",
    "\n",
    "Brand: Brand of ramen. Worth looking into to see if some brands rate better than others.\n",
    "\n",
    "Variety: Explanation of what kind of ramen it is. Needs to be parsed.\n",
    "\n",
    "Style: Style of ramen. Needs to be categorized.\n",
    "\n",
    "Country: Country of origin of the ramen. Needs to be categorized.\n",
    "\n",
    "Stars: Rating of ramen, our target variable. Needs to be changed into a numeric column.\n",
    "\n",
    "Top Ten: Only 41 entries. Will be dropped.\n"
   ],
   "cell_type": "markdown",
   "metadata": {}
  },
  {
   "cell_type": "code",
   "execution_count": 111,
   "metadata": {},
   "outputs": [
    {
     "output_type": "execute_result",
     "data": {
      "text/plain": [
       "          Total   Percent\n",
       "Top Ten    2539  0.984109\n",
       "Style         2  0.000775\n",
       "Stars         0  0.000000\n",
       "Country       0  0.000000\n",
       "Variety       0  0.000000\n",
       "Brand         0  0.000000\n",
       "Review #      0  0.000000"
      ],
      "text/html": "<div>\n<style scoped>\n    .dataframe tbody tr th:only-of-type {\n        vertical-align: middle;\n    }\n\n    .dataframe tbody tr th {\n        vertical-align: top;\n    }\n\n    .dataframe thead th {\n        text-align: right;\n    }\n</style>\n<table border=\"1\" class=\"dataframe\">\n  <thead>\n    <tr style=\"text-align: right;\">\n      <th></th>\n      <th>Total</th>\n      <th>Percent</th>\n    </tr>\n  </thead>\n  <tbody>\n    <tr>\n      <th>Top Ten</th>\n      <td>2539</td>\n      <td>0.984109</td>\n    </tr>\n    <tr>\n      <th>Style</th>\n      <td>2</td>\n      <td>0.000775</td>\n    </tr>\n    <tr>\n      <th>Stars</th>\n      <td>0</td>\n      <td>0.000000</td>\n    </tr>\n    <tr>\n      <th>Country</th>\n      <td>0</td>\n      <td>0.000000</td>\n    </tr>\n    <tr>\n      <th>Variety</th>\n      <td>0</td>\n      <td>0.000000</td>\n    </tr>\n    <tr>\n      <th>Brand</th>\n      <td>0</td>\n      <td>0.000000</td>\n    </tr>\n    <tr>\n      <th>Review #</th>\n      <td>0</td>\n      <td>0.000000</td>\n    </tr>\n  </tbody>\n</table>\n</div>"
     },
     "metadata": {},
     "execution_count": 111
    }
   ],
   "source": [
    "total = ramen.isnull().sum().sort_values(ascending=False)\n",
    "perc = (ramen.isnull().sum()/ramen.isnull().count()).sort_values(ascending=False)\n",
    "missing_data = pd.concat([total, perc], axis=1, keys=['Total', 'Percent'])\n",
    "missing_data"
   ]
  },
  {
   "source": [
    "Will drop Top Ten and the 2 rows where Style is missing an entry"
   ],
   "cell_type": "markdown",
   "metadata": {}
  },
  {
   "cell_type": "code",
   "execution_count": 112,
   "metadata": {},
   "outputs": [],
   "source": [
    "ramen.drop('Top Ten', axis=1, inplace=True)\n",
    "ramen = ramen.drop(ramen[ramen['Style'].isnull()].index)"
   ]
  },
  {
   "source": [
    "While trying to convert Stars into a numeric column we find that there is an entry 'Unrated' in the column for entries without ratings.\n",
    "\n",
    "We will be dropping these rows as there are few of them and it is our target variable."
   ],
   "cell_type": "markdown",
   "metadata": {}
  },
  {
   "cell_type": "code",
   "execution_count": 113,
   "metadata": {},
   "outputs": [
    {
     "output_type": "execute_result",
     "data": {
      "text/plain": [
       "     Review #          Brand                                Variety Style  \\\n",
       "32       2548         Ottogi  Plain Instant Noodle No Soup Included  Pack   \n",
       "122      2458  Samyang Foods                             Sari Ramen  Pack   \n",
       "993      1587       Mi E-Zee                          Plain Noodles  Pack   \n",
       "\n",
       "         Country    Stars  \n",
       "32   South Korea  Unrated  \n",
       "122  South Korea  Unrated  \n",
       "993     Malaysia  Unrated  "
      ],
      "text/html": "<div>\n<style scoped>\n    .dataframe tbody tr th:only-of-type {\n        vertical-align: middle;\n    }\n\n    .dataframe tbody tr th {\n        vertical-align: top;\n    }\n\n    .dataframe thead th {\n        text-align: right;\n    }\n</style>\n<table border=\"1\" class=\"dataframe\">\n  <thead>\n    <tr style=\"text-align: right;\">\n      <th></th>\n      <th>Review #</th>\n      <th>Brand</th>\n      <th>Variety</th>\n      <th>Style</th>\n      <th>Country</th>\n      <th>Stars</th>\n    </tr>\n  </thead>\n  <tbody>\n    <tr>\n      <th>32</th>\n      <td>2548</td>\n      <td>Ottogi</td>\n      <td>Plain Instant Noodle No Soup Included</td>\n      <td>Pack</td>\n      <td>South Korea</td>\n      <td>Unrated</td>\n    </tr>\n    <tr>\n      <th>122</th>\n      <td>2458</td>\n      <td>Samyang Foods</td>\n      <td>Sari Ramen</td>\n      <td>Pack</td>\n      <td>South Korea</td>\n      <td>Unrated</td>\n    </tr>\n    <tr>\n      <th>993</th>\n      <td>1587</td>\n      <td>Mi E-Zee</td>\n      <td>Plain Noodles</td>\n      <td>Pack</td>\n      <td>Malaysia</td>\n      <td>Unrated</td>\n    </tr>\n  </tbody>\n</table>\n</div>"
     },
     "metadata": {},
     "execution_count": 113
    }
   ],
   "source": [
    "ramen[ramen['Stars'] == 'Unrated']"
   ]
  },
  {
   "cell_type": "code",
   "execution_count": 114,
   "metadata": {},
   "outputs": [],
   "source": [
    "ramen = ramen.drop(ramen[ramen['Stars'] == 'Unrated'].index)"
   ]
  },
  {
   "cell_type": "code",
   "execution_count": 115,
   "metadata": {},
   "outputs": [],
   "source": [
    "ramen['Stars'] = pd.to_numeric(ramen['Stars'])"
   ]
  },
  {
   "cell_type": "code",
   "execution_count": 116,
   "metadata": {},
   "outputs": [
    {
     "output_type": "stream",
     "name": "stdout",
     "text": [
      "<class 'pandas.core.frame.DataFrame'>\nInt64Index: 2575 entries, 0 to 2579\nData columns (total 6 columns):\nReview #    2575 non-null int64\nBrand       2575 non-null object\nVariety     2575 non-null object\nStyle       2575 non-null object\nCountry     2575 non-null object\nStars       2575 non-null float64\ndtypes: float64(1), int64(1), object(4)\nmemory usage: 140.8+ KB\n"
     ]
    }
   ],
   "source": [
    "ramen.info()"
   ]
  },
  {
   "cell_type": "code",
   "execution_count": 117,
   "metadata": {},
   "outputs": [
    {
     "output_type": "execute_result",
     "data": {
      "text/plain": [
       "array(['Cup', 'Pack', 'Tray', 'Bowl', 'Box', 'Can', 'Bar'], dtype=object)"
      ]
     },
     "metadata": {},
     "execution_count": 117
    }
   ],
   "source": [
    "ramen['Style'].unique()"
   ]
  },
  {
   "cell_type": "code",
   "execution_count": 118,
   "metadata": {},
   "outputs": [
    {
     "output_type": "execute_result",
     "data": {
      "text/plain": [
       "Text(0, 0.5, 'Rating')"
      ]
     },
     "metadata": {},
     "execution_count": 118
    },
    {
     "output_type": "display_data",
     "data": {
      "text/plain": "<Figure size 720x432 with 1 Axes>",
      "image/svg+xml": "<?xml version=\"1.0\" encoding=\"utf-8\" standalone=\"no\"?>\r\n<!DOCTYPE svg PUBLIC \"-//W3C//DTD SVG 1.1//EN\"\r\n  \"http://www.w3.org/Graphics/SVG/1.1/DTD/svg11.dtd\">\r\n<!-- Created with matplotlib (https://matplotlib.org/) -->\r\n<svg height=\"396.288938pt\" version=\"1.1\" viewBox=\"0 0 606.578438 396.288938\" width=\"606.578438pt\" xmlns=\"http://www.w3.org/2000/svg\" xmlns:xlink=\"http://www.w3.org/1999/xlink\">\r\n <defs>\r\n  <style type=\"text/css\">\r\n*{stroke-linecap:butt;stroke-linejoin:round;white-space:pre;}\r\n  </style>\r\n </defs>\r\n <g id=\"figure_1\">\r\n  <g id=\"patch_1\">\r\n   <path d=\"M 0 396.288938 \r\nL 606.578438 396.288938 \r\nL 606.578438 0 \r\nL 0 0 \r\nz\r\n\" style=\"fill:#ffffff;\"/>\r\n  </g>\r\n  <g id=\"axes_1\">\r\n   <g id=\"patch_2\">\r\n    <path d=\"M 41.378438 349.84275 \r\nL 599.378438 349.84275 \r\nL 599.378438 23.68275 \r\nL 41.378438 23.68275 \r\nz\r\n\" style=\"fill:#eaeaf2;\"/>\r\n   </g>\r\n   <g id=\"matplotlib.axis_1\">\r\n    <g id=\"xtick_1\">\r\n     <g id=\"text_1\">\r\n      <!-- Cup -->\r\n      <defs>\r\n       <path d=\"M 58.796875 25.09375 \r\nL 68.265625 22.703125 \r\nQ 65.28125 11.03125 57.546875 4.90625 \r\nQ 49.8125 -1.21875 38.625 -1.21875 \r\nQ 27.046875 -1.21875 19.796875 3.484375 \r\nQ 12.546875 8.203125 8.765625 17.140625 \r\nQ 4.984375 26.078125 4.984375 36.328125 \r\nQ 4.984375 47.515625 9.25 55.828125 \r\nQ 13.53125 64.15625 21.40625 68.46875 \r\nQ 29.296875 72.796875 38.765625 72.796875 \r\nQ 49.515625 72.796875 56.828125 67.328125 \r\nQ 64.15625 61.859375 67.046875 51.953125 \r\nL 57.71875 49.75 \r\nQ 55.21875 57.5625 50.484375 61.125 \r\nQ 45.75 64.703125 38.578125 64.703125 \r\nQ 30.328125 64.703125 24.78125 60.734375 \r\nQ 19.234375 56.78125 16.984375 50.109375 \r\nQ 14.75 43.453125 14.75 36.375 \r\nQ 14.75 27.25 17.40625 20.4375 \r\nQ 20.0625 13.625 25.671875 10.25 \r\nQ 31.296875 6.890625 37.84375 6.890625 \r\nQ 45.796875 6.890625 51.3125 11.46875 \r\nQ 56.84375 16.0625 58.796875 25.09375 \r\nz\r\n\" id=\"ArialMT-67\"/>\r\n       <path d=\"M 40.578125 0 \r\nL 40.578125 7.625 \r\nQ 34.515625 -1.171875 24.125 -1.171875 \r\nQ 19.53125 -1.171875 15.546875 0.578125 \r\nQ 11.578125 2.34375 9.640625 5 \r\nQ 7.71875 7.671875 6.9375 11.53125 \r\nQ 6.390625 14.109375 6.390625 19.734375 \r\nL 6.390625 51.859375 \r\nL 15.1875 51.859375 \r\nL 15.1875 23.09375 \r\nQ 15.1875 16.21875 15.71875 13.8125 \r\nQ 16.546875 10.359375 19.234375 8.375 \r\nQ 21.921875 6.390625 25.875 6.390625 \r\nQ 29.828125 6.390625 33.296875 8.421875 \r\nQ 36.765625 10.453125 38.203125 13.9375 \r\nQ 39.65625 17.4375 39.65625 24.078125 \r\nL 39.65625 51.859375 \r\nL 48.4375 51.859375 \r\nL 48.4375 0 \r\nz\r\n\" id=\"ArialMT-117\"/>\r\n       <path d=\"M 6.59375 -19.875 \r\nL 6.59375 51.859375 \r\nL 14.59375 51.859375 \r\nL 14.59375 45.125 \r\nQ 17.4375 49.078125 21 51.046875 \r\nQ 24.5625 53.03125 29.640625 53.03125 \r\nQ 36.28125 53.03125 41.359375 49.609375 \r\nQ 46.4375 46.1875 49.015625 39.953125 \r\nQ 51.609375 33.734375 51.609375 26.3125 \r\nQ 51.609375 18.359375 48.75 11.984375 \r\nQ 45.90625 5.609375 40.453125 2.21875 \r\nQ 35.015625 -1.171875 29 -1.171875 \r\nQ 24.609375 -1.171875 21.109375 0.6875 \r\nQ 17.625 2.546875 15.375 5.375 \r\nL 15.375 -19.875 \r\nz\r\nM 14.546875 25.640625 \r\nQ 14.546875 15.625 18.59375 10.84375 \r\nQ 22.65625 6.0625 28.421875 6.0625 \r\nQ 34.28125 6.0625 38.453125 11.015625 \r\nQ 42.625 15.96875 42.625 26.375 \r\nQ 42.625 36.28125 38.546875 41.203125 \r\nQ 34.46875 46.140625 28.8125 46.140625 \r\nQ 23.1875 46.140625 18.859375 40.890625 \r\nQ 14.546875 35.640625 14.546875 25.640625 \r\nz\r\n\" id=\"ArialMT-112\"/>\r\n      </defs>\r\n      <g style=\"fill:#262626;\" transform=\"translate(69.128705 368.951938)scale(0.132 -0.132)\">\r\n       <use xlink:href=\"#ArialMT-67\"/>\r\n       <use x=\"72.216797\" xlink:href=\"#ArialMT-117\"/>\r\n       <use x=\"127.832031\" xlink:href=\"#ArialMT-112\"/>\r\n      </g>\r\n     </g>\r\n    </g>\r\n    <g id=\"xtick_2\">\r\n     <g id=\"text_2\">\r\n      <!-- Pack -->\r\n      <defs>\r\n       <path d=\"M 7.71875 0 \r\nL 7.71875 71.578125 \r\nL 34.71875 71.578125 \r\nQ 41.84375 71.578125 45.609375 70.90625 \r\nQ 50.875 70.015625 54.4375 67.546875 \r\nQ 58.015625 65.09375 60.1875 60.640625 \r\nQ 62.359375 56.203125 62.359375 50.875 \r\nQ 62.359375 41.75 56.546875 35.421875 \r\nQ 50.734375 29.109375 35.546875 29.109375 \r\nL 17.1875 29.109375 \r\nL 17.1875 0 \r\nz\r\nM 17.1875 37.546875 \r\nL 35.6875 37.546875 \r\nQ 44.875 37.546875 48.734375 40.96875 \r\nQ 52.59375 44.390625 52.59375 50.59375 \r\nQ 52.59375 55.078125 50.3125 58.265625 \r\nQ 48.046875 61.46875 44.34375 62.5 \r\nQ 41.9375 63.140625 35.5 63.140625 \r\nL 17.1875 63.140625 \r\nz\r\n\" id=\"ArialMT-80\"/>\r\n       <path d=\"M 40.4375 6.390625 \r\nQ 35.546875 2.25 31.03125 0.53125 \r\nQ 26.515625 -1.171875 21.34375 -1.171875 \r\nQ 12.796875 -1.171875 8.203125 3 \r\nQ 3.609375 7.171875 3.609375 13.671875 \r\nQ 3.609375 17.484375 5.34375 20.625 \r\nQ 7.078125 23.78125 9.890625 25.6875 \r\nQ 12.703125 27.59375 16.21875 28.5625 \r\nQ 18.796875 29.25 24.03125 29.890625 \r\nQ 34.671875 31.15625 39.703125 32.90625 \r\nQ 39.75 34.71875 39.75 35.203125 \r\nQ 39.75 40.578125 37.25 42.78125 \r\nQ 33.890625 45.75 27.25 45.75 \r\nQ 21.046875 45.75 18.09375 43.578125 \r\nQ 15.140625 41.40625 13.71875 35.890625 \r\nL 5.125 37.0625 \r\nQ 6.296875 42.578125 8.984375 45.96875 \r\nQ 11.671875 49.359375 16.75 51.1875 \r\nQ 21.828125 53.03125 28.515625 53.03125 \r\nQ 35.15625 53.03125 39.296875 51.46875 \r\nQ 43.453125 49.90625 45.40625 47.53125 \r\nQ 47.359375 45.171875 48.140625 41.546875 \r\nQ 48.578125 39.3125 48.578125 33.453125 \r\nL 48.578125 21.734375 \r\nQ 48.578125 9.46875 49.140625 6.21875 \r\nQ 49.703125 2.984375 51.375 0 \r\nL 42.1875 0 \r\nQ 40.828125 2.734375 40.4375 6.390625 \r\nz\r\nM 39.703125 26.03125 \r\nQ 34.90625 24.078125 25.34375 22.703125 \r\nQ 19.921875 21.921875 17.671875 20.9375 \r\nQ 15.4375 19.96875 14.203125 18.09375 \r\nQ 12.984375 16.21875 12.984375 13.921875 \r\nQ 12.984375 10.40625 15.640625 8.0625 \r\nQ 18.3125 5.71875 23.4375 5.71875 \r\nQ 28.515625 5.71875 32.46875 7.9375 \r\nQ 36.421875 10.15625 38.28125 14.015625 \r\nQ 39.703125 17 39.703125 22.796875 \r\nz\r\n\" id=\"ArialMT-97\"/>\r\n       <path d=\"M 40.4375 19 \r\nL 49.078125 17.875 \r\nQ 47.65625 8.9375 41.8125 3.875 \r\nQ 35.984375 -1.171875 27.484375 -1.171875 \r\nQ 16.84375 -1.171875 10.375 5.78125 \r\nQ 3.90625 12.75 3.90625 25.734375 \r\nQ 3.90625 34.125 6.6875 40.421875 \r\nQ 9.46875 46.734375 15.15625 49.875 \r\nQ 20.84375 53.03125 27.546875 53.03125 \r\nQ 35.984375 53.03125 41.359375 48.75 \r\nQ 46.734375 44.484375 48.25 36.625 \r\nL 39.703125 35.296875 \r\nQ 38.484375 40.53125 35.375 43.15625 \r\nQ 32.28125 45.796875 27.875 45.796875 \r\nQ 21.234375 45.796875 17.078125 41.03125 \r\nQ 12.9375 36.28125 12.9375 25.984375 \r\nQ 12.9375 15.53125 16.9375 10.796875 \r\nQ 20.953125 6.0625 27.390625 6.0625 \r\nQ 32.5625 6.0625 36.03125 9.234375 \r\nQ 39.5 12.40625 40.4375 19 \r\nz\r\n\" id=\"ArialMT-99\"/>\r\n       <path d=\"M 6.640625 0 \r\nL 6.640625 71.578125 \r\nL 15.4375 71.578125 \r\nL 15.4375 30.765625 \r\nL 36.234375 51.859375 \r\nL 47.609375 51.859375 \r\nL 27.78125 32.625 \r\nL 49.609375 0 \r\nL 38.765625 0 \r\nL 21.625 26.515625 \r\nL 15.4375 20.5625 \r\nL 15.4375 0 \r\nz\r\n\" id=\"ArialMT-107\"/>\r\n      </defs>\r\n      <g style=\"fill:#262626;\" transform=\"translate(146.277241 368.791063)scale(0.132 -0.132)\">\r\n       <use xlink:href=\"#ArialMT-80\"/>\r\n       <use x=\"66.699219\" xlink:href=\"#ArialMT-97\"/>\r\n       <use x=\"122.314453\" xlink:href=\"#ArialMT-99\"/>\r\n       <use x=\"172.314453\" xlink:href=\"#ArialMT-107\"/>\r\n      </g>\r\n     </g>\r\n    </g>\r\n    <g id=\"xtick_3\">\r\n     <g id=\"text_3\">\r\n      <!-- Tray -->\r\n      <defs>\r\n       <path d=\"M 25.921875 0 \r\nL 25.921875 63.140625 \r\nL 2.34375 63.140625 \r\nL 2.34375 71.578125 \r\nL 59.078125 71.578125 \r\nL 59.078125 63.140625 \r\nL 35.40625 63.140625 \r\nL 35.40625 0 \r\nz\r\n\" id=\"ArialMT-84\"/>\r\n       <path d=\"M 6.5 0 \r\nL 6.5 51.859375 \r\nL 14.40625 51.859375 \r\nL 14.40625 44 \r\nQ 17.4375 49.515625 20 51.265625 \r\nQ 22.5625 53.03125 25.640625 53.03125 \r\nQ 30.078125 53.03125 34.671875 50.203125 \r\nL 31.640625 42.046875 \r\nQ 28.421875 43.953125 25.203125 43.953125 \r\nQ 22.3125 43.953125 20.015625 42.21875 \r\nQ 17.71875 40.484375 16.75 37.40625 \r\nQ 15.28125 32.71875 15.28125 27.15625 \r\nL 15.28125 0 \r\nz\r\n\" id=\"ArialMT-114\"/>\r\n       <path d=\"M 6.203125 -19.96875 \r\nL 5.21875 -11.71875 \r\nQ 8.109375 -12.5 10.25 -12.5 \r\nQ 13.1875 -12.5 14.9375 -11.515625 \r\nQ 16.703125 -10.546875 17.828125 -8.796875 \r\nQ 18.65625 -7.46875 20.515625 -2.25 \r\nQ 20.75 -1.515625 21.296875 -0.09375 \r\nL 1.609375 51.859375 \r\nL 11.078125 51.859375 \r\nL 21.875 21.828125 \r\nQ 23.96875 16.109375 25.640625 9.8125 \r\nQ 27.15625 15.875 29.25 21.625 \r\nL 40.328125 51.859375 \r\nL 49.125 51.859375 \r\nL 29.390625 -0.875 \r\nQ 26.21875 -9.421875 24.46875 -12.640625 \r\nQ 22.125 -17 19.09375 -19.015625 \r\nQ 16.0625 -21.046875 11.859375 -21.046875 \r\nQ 9.328125 -21.046875 6.203125 -19.96875 \r\nz\r\n\" id=\"ArialMT-121\"/>\r\n      </defs>\r\n      <g style=\"fill:#262626;\" transform=\"translate(227.468277 368.791063)scale(0.132 -0.132)\">\r\n       <use xlink:href=\"#ArialMT-84\"/>\r\n       <use x=\"61.037109\" xlink:href=\"#ArialMT-114\"/>\r\n       <use x=\"94.337891\" xlink:href=\"#ArialMT-97\"/>\r\n       <use x=\"149.953125\" xlink:href=\"#ArialMT-121\"/>\r\n      </g>\r\n     </g>\r\n    </g>\r\n    <g id=\"xtick_4\">\r\n     <g id=\"text_4\">\r\n      <!-- Bowl -->\r\n      <defs>\r\n       <path d=\"M 7.328125 0 \r\nL 7.328125 71.578125 \r\nL 34.1875 71.578125 \r\nQ 42.390625 71.578125 47.34375 69.40625 \r\nQ 52.296875 67.234375 55.09375 62.71875 \r\nQ 57.90625 58.203125 57.90625 53.265625 \r\nQ 57.90625 48.6875 55.421875 44.625 \r\nQ 52.9375 40.578125 47.90625 38.09375 \r\nQ 54.390625 36.1875 57.875 31.59375 \r\nQ 61.375 27 61.375 20.75 \r\nQ 61.375 15.71875 59.25 11.390625 \r\nQ 57.125 7.078125 54 4.734375 \r\nQ 50.875 2.390625 46.15625 1.1875 \r\nQ 41.453125 0 34.625 0 \r\nz\r\nM 16.796875 41.5 \r\nL 32.28125 41.5 \r\nQ 38.578125 41.5 41.3125 42.328125 \r\nQ 44.921875 43.40625 46.75 45.890625 \r\nQ 48.578125 48.390625 48.578125 52.15625 \r\nQ 48.578125 55.71875 46.875 58.421875 \r\nQ 45.171875 61.140625 41.984375 62.140625 \r\nQ 38.8125 63.140625 31.109375 63.140625 \r\nL 16.796875 63.140625 \r\nz\r\nM 16.796875 8.453125 \r\nL 34.625 8.453125 \r\nQ 39.203125 8.453125 41.0625 8.796875 \r\nQ 44.34375 9.375 46.53125 10.734375 \r\nQ 48.734375 12.109375 50.140625 14.71875 \r\nQ 51.5625 17.328125 51.5625 20.75 \r\nQ 51.5625 24.75 49.515625 27.703125 \r\nQ 47.46875 30.671875 43.828125 31.859375 \r\nQ 40.1875 33.0625 33.34375 33.0625 \r\nL 16.796875 33.0625 \r\nz\r\n\" id=\"ArialMT-66\"/>\r\n       <path d=\"M 3.328125 25.921875 \r\nQ 3.328125 40.328125 11.328125 47.265625 \r\nQ 18.015625 53.03125 27.640625 53.03125 \r\nQ 38.328125 53.03125 45.109375 46.015625 \r\nQ 51.90625 39.015625 51.90625 26.65625 \r\nQ 51.90625 16.65625 48.90625 10.90625 \r\nQ 45.90625 5.171875 40.15625 2 \r\nQ 34.421875 -1.171875 27.640625 -1.171875 \r\nQ 16.75 -1.171875 10.03125 5.8125 \r\nQ 3.328125 12.796875 3.328125 25.921875 \r\nz\r\nM 12.359375 25.921875 \r\nQ 12.359375 15.96875 16.703125 11.015625 \r\nQ 21.046875 6.0625 27.640625 6.0625 \r\nQ 34.1875 6.0625 38.53125 11.03125 \r\nQ 42.875 16.015625 42.875 26.21875 \r\nQ 42.875 35.84375 38.5 40.796875 \r\nQ 34.125 45.75 27.640625 45.75 \r\nQ 21.046875 45.75 16.703125 40.8125 \r\nQ 12.359375 35.890625 12.359375 25.921875 \r\nz\r\n\" id=\"ArialMT-111\"/>\r\n       <path d=\"M 16.15625 0 \r\nL 0.296875 51.859375 \r\nL 9.375 51.859375 \r\nL 17.625 21.921875 \r\nL 20.703125 10.796875 \r\nQ 20.90625 11.625 23.390625 21.484375 \r\nL 31.640625 51.859375 \r\nL 40.671875 51.859375 \r\nL 48.4375 21.78125 \r\nL 51.03125 11.859375 \r\nL 54 21.875 \r\nL 62.890625 51.859375 \r\nL 71.4375 51.859375 \r\nL 55.21875 0 \r\nL 46.09375 0 \r\nL 37.84375 31.0625 \r\nL 35.84375 39.890625 \r\nL 25.34375 0 \r\nz\r\n\" id=\"ArialMT-119\"/>\r\n       <path d=\"M 6.390625 0 \r\nL 6.390625 71.578125 \r\nL 15.1875 71.578125 \r\nL 15.1875 0 \r\nz\r\n\" id=\"ArialMT-108\"/>\r\n      </defs>\r\n      <g style=\"fill:#262626;\" transform=\"translate(306.072937 368.791063)scale(0.132 -0.132)\">\r\n       <use xlink:href=\"#ArialMT-66\"/>\r\n       <use x=\"66.699219\" xlink:href=\"#ArialMT-111\"/>\r\n       <use x=\"122.314453\" xlink:href=\"#ArialMT-119\"/>\r\n       <use x=\"194.53125\" xlink:href=\"#ArialMT-108\"/>\r\n      </g>\r\n     </g>\r\n    </g>\r\n    <g id=\"xtick_5\">\r\n     <g id=\"text_5\">\r\n      <!-- Box -->\r\n      <defs>\r\n       <path d=\"M 0.734375 0 \r\nL 19.671875 26.953125 \r\nL 2.15625 51.859375 \r\nL 13.140625 51.859375 \r\nL 21.09375 39.703125 \r\nQ 23.34375 36.234375 24.703125 33.890625 \r\nQ 26.859375 37.109375 28.65625 39.59375 \r\nL 37.40625 51.859375 \r\nL 47.90625 51.859375 \r\nL 29.984375 27.4375 \r\nL 49.265625 0 \r\nL 38.484375 0 \r\nL 27.828125 16.109375 \r\nL 25 20.453125 \r\nL 11.375 0 \r\nz\r\n\" id=\"ArialMT-120\"/>\r\n      </defs>\r\n      <g style=\"fill:#262626;\" transform=\"translate(388.720098 368.791063)scale(0.132 -0.132)\">\r\n       <use xlink:href=\"#ArialMT-66\"/>\r\n       <use x=\"66.699219\" xlink:href=\"#ArialMT-111\"/>\r\n       <use x=\"122.314453\" xlink:href=\"#ArialMT-120\"/>\r\n      </g>\r\n     </g>\r\n    </g>\r\n    <g id=\"xtick_6\">\r\n     <g id=\"text_6\">\r\n      <!-- Can -->\r\n      <defs>\r\n       <path d=\"M 6.59375 0 \r\nL 6.59375 51.859375 \r\nL 14.5 51.859375 \r\nL 14.5 44.484375 \r\nQ 20.21875 53.03125 31 53.03125 \r\nQ 35.6875 53.03125 39.625 51.34375 \r\nQ 43.5625 49.65625 45.515625 46.921875 \r\nQ 47.46875 44.1875 48.25 40.4375 \r\nQ 48.734375 37.984375 48.734375 31.890625 \r\nL 48.734375 0 \r\nL 39.9375 0 \r\nL 39.9375 31.546875 \r\nQ 39.9375 36.921875 38.90625 39.578125 \r\nQ 37.890625 42.234375 35.28125 43.8125 \r\nQ 32.671875 45.40625 29.15625 45.40625 \r\nQ 23.53125 45.40625 19.453125 41.84375 \r\nQ 15.375 38.28125 15.375 28.328125 \r\nL 15.375 0 \r\nz\r\n\" id=\"ArialMT-110\"/>\r\n      </defs>\r\n      <g style=\"fill:#262626;\" transform=\"translate(467.700134 368.791063)scale(0.132 -0.132)\">\r\n       <use xlink:href=\"#ArialMT-67\"/>\r\n       <use x=\"72.216797\" xlink:href=\"#ArialMT-97\"/>\r\n       <use x=\"127.832031\" xlink:href=\"#ArialMT-110\"/>\r\n      </g>\r\n     </g>\r\n    </g>\r\n    <g id=\"xtick_7\">\r\n     <g id=\"text_7\">\r\n      <!-- Bar -->\r\n      <g style=\"fill:#262626;\" transform=\"translate(549.251076 368.791063)scale(0.132 -0.132)\">\r\n       <use xlink:href=\"#ArialMT-66\"/>\r\n       <use x=\"66.699219\" xlink:href=\"#ArialMT-97\"/>\r\n       <use x=\"122.314453\" xlink:href=\"#ArialMT-114\"/>\r\n      </g>\r\n     </g>\r\n    </g>\r\n    <g id=\"text_8\">\r\n     <!-- Style -->\r\n     <defs>\r\n      <path d=\"M 4.5 23 \r\nL 13.421875 23.78125 \r\nQ 14.0625 18.40625 16.375 14.96875 \r\nQ 18.703125 11.53125 23.578125 9.40625 \r\nQ 28.46875 7.28125 34.578125 7.28125 \r\nQ 39.984375 7.28125 44.140625 8.890625 \r\nQ 48.296875 10.5 50.3125 13.296875 \r\nQ 52.34375 16.109375 52.34375 19.4375 \r\nQ 52.34375 22.796875 50.390625 25.3125 \r\nQ 48.4375 27.828125 43.953125 29.546875 \r\nQ 41.0625 30.671875 31.203125 33.03125 \r\nQ 21.34375 35.40625 17.390625 37.5 \r\nQ 12.25 40.1875 9.734375 44.15625 \r\nQ 7.234375 48.140625 7.234375 53.078125 \r\nQ 7.234375 58.5 10.296875 63.203125 \r\nQ 13.375 67.921875 19.28125 70.359375 \r\nQ 25.203125 72.796875 32.421875 72.796875 \r\nQ 40.375 72.796875 46.453125 70.234375 \r\nQ 52.546875 67.671875 55.8125 62.6875 \r\nQ 59.078125 57.71875 59.328125 51.421875 \r\nL 50.25 50.734375 \r\nQ 49.515625 57.515625 45.28125 60.984375 \r\nQ 41.0625 64.453125 32.8125 64.453125 \r\nQ 24.21875 64.453125 20.28125 61.296875 \r\nQ 16.359375 58.15625 16.359375 53.71875 \r\nQ 16.359375 49.859375 19.140625 47.359375 \r\nQ 21.875 44.875 33.421875 42.265625 \r\nQ 44.96875 39.65625 49.265625 37.703125 \r\nQ 55.515625 34.8125 58.484375 30.390625 \r\nQ 61.46875 25.984375 61.46875 20.21875 \r\nQ 61.46875 14.5 58.203125 9.4375 \r\nQ 54.9375 4.390625 48.796875 1.578125 \r\nQ 42.671875 -1.21875 35.015625 -1.21875 \r\nQ 25.296875 -1.21875 18.71875 1.609375 \r\nQ 12.15625 4.4375 8.421875 10.125 \r\nQ 4.6875 15.828125 4.5 23 \r\nz\r\n\" id=\"ArialMT-83\"/>\r\n      <path d=\"M 25.78125 7.859375 \r\nL 27.046875 0.09375 \r\nQ 23.34375 -0.6875 20.40625 -0.6875 \r\nQ 15.625 -0.6875 12.984375 0.828125 \r\nQ 10.359375 2.34375 9.28125 4.8125 \r\nQ 8.203125 7.28125 8.203125 15.1875 \r\nL 8.203125 45.015625 \r\nL 1.765625 45.015625 \r\nL 1.765625 51.859375 \r\nL 8.203125 51.859375 \r\nL 8.203125 64.703125 \r\nL 16.9375 69.96875 \r\nL 16.9375 51.859375 \r\nL 25.78125 51.859375 \r\nL 25.78125 45.015625 \r\nL 16.9375 45.015625 \r\nL 16.9375 14.703125 \r\nQ 16.9375 10.9375 17.40625 9.859375 \r\nQ 17.875 8.796875 18.921875 8.15625 \r\nQ 19.96875 7.515625 21.921875 7.515625 \r\nQ 23.390625 7.515625 25.78125 7.859375 \r\nz\r\n\" id=\"ArialMT-116\"/>\r\n      <path d=\"M 42.09375 16.703125 \r\nL 51.171875 15.578125 \r\nQ 49.03125 7.625 43.21875 3.21875 \r\nQ 37.40625 -1.171875 28.375 -1.171875 \r\nQ 17 -1.171875 10.328125 5.828125 \r\nQ 3.65625 12.84375 3.65625 25.484375 \r\nQ 3.65625 38.578125 10.390625 45.796875 \r\nQ 17.140625 53.03125 27.875 53.03125 \r\nQ 38.28125 53.03125 44.875 45.953125 \r\nQ 51.46875 38.875 51.46875 26.03125 \r\nQ 51.46875 25.25 51.421875 23.6875 \r\nL 12.75 23.6875 \r\nQ 13.234375 15.140625 17.578125 10.59375 \r\nQ 21.921875 6.0625 28.421875 6.0625 \r\nQ 33.25 6.0625 36.671875 8.59375 \r\nQ 40.09375 11.140625 42.09375 16.703125 \r\nz\r\nM 13.234375 30.90625 \r\nL 42.1875 30.90625 \r\nQ 41.609375 37.453125 38.875 40.71875 \r\nQ 34.671875 45.796875 27.984375 45.796875 \r\nQ 21.921875 45.796875 17.796875 41.75 \r\nQ 13.671875 37.703125 13.234375 30.90625 \r\nz\r\n\" id=\"ArialMT-101\"/>\r\n     </defs>\r\n     <g style=\"fill:#262626;\" transform=\"translate(304.371938 386.058188)scale(0.144 -0.144)\">\r\n      <use xlink:href=\"#ArialMT-83\"/>\r\n      <use x=\"66.699219\" xlink:href=\"#ArialMT-116\"/>\r\n      <use x=\"94.482422\" xlink:href=\"#ArialMT-121\"/>\r\n      <use x=\"144.482422\" xlink:href=\"#ArialMT-108\"/>\r\n      <use x=\"166.699219\" xlink:href=\"#ArialMT-101\"/>\r\n     </g>\r\n    </g>\r\n   </g>\r\n   <g id=\"matplotlib.axis_2\">\r\n    <g id=\"ytick_1\">\r\n     <g id=\"line2d_1\">\r\n      <path clip-path=\"url(#p3605b6c102)\" d=\"M 41.378438 335.017295 \r\nL 599.378438 335.017295 \r\n\" style=\"fill:none;stroke:#ffffff;stroke-linecap:round;\"/>\r\n     </g>\r\n     <g id=\"text_9\">\r\n      <!-- 0 -->\r\n      <defs>\r\n       <path d=\"M 4.15625 35.296875 \r\nQ 4.15625 48 6.765625 55.734375 \r\nQ 9.375 63.484375 14.515625 67.671875 \r\nQ 19.671875 71.875 27.484375 71.875 \r\nQ 33.25 71.875 37.59375 69.546875 \r\nQ 41.9375 67.234375 44.765625 62.859375 \r\nQ 47.609375 58.5 49.21875 52.21875 \r\nQ 50.828125 45.953125 50.828125 35.296875 \r\nQ 50.828125 22.703125 48.234375 14.96875 \r\nQ 45.65625 7.234375 40.5 3 \r\nQ 35.359375 -1.21875 27.484375 -1.21875 \r\nQ 17.140625 -1.21875 11.234375 6.203125 \r\nQ 4.15625 15.140625 4.15625 35.296875 \r\nz\r\nM 13.1875 35.296875 \r\nQ 13.1875 17.671875 17.3125 11.828125 \r\nQ 21.4375 6 27.484375 6 \r\nQ 33.546875 6 37.671875 11.859375 \r\nQ 41.796875 17.71875 41.796875 35.296875 \r\nQ 41.796875 52.984375 37.671875 58.78125 \r\nQ 33.546875 64.59375 27.390625 64.59375 \r\nQ 21.34375 64.59375 17.71875 59.46875 \r\nQ 13.1875 52.9375 13.1875 35.296875 \r\nz\r\n\" id=\"ArialMT-48\"/>\r\n      </defs>\r\n      <g style=\"fill:#262626;\" transform=\"translate(24.538 339.741452)scale(0.132 -0.132)\">\r\n       <use xlink:href=\"#ArialMT-48\"/>\r\n      </g>\r\n     </g>\r\n    </g>\r\n    <g id=\"ytick_2\">\r\n     <g id=\"line2d_2\">\r\n      <path clip-path=\"url(#p3605b6c102)\" d=\"M 41.378438 275.715477 \r\nL 599.378438 275.715477 \r\n\" style=\"fill:none;stroke:#ffffff;stroke-linecap:round;\"/>\r\n     </g>\r\n     <g id=\"text_10\">\r\n      <!-- 1 -->\r\n      <defs>\r\n       <path d=\"M 37.25 0 \r\nL 28.46875 0 \r\nL 28.46875 56 \r\nQ 25.296875 52.984375 20.140625 49.953125 \r\nQ 14.984375 46.921875 10.890625 45.40625 \r\nL 10.890625 53.90625 \r\nQ 18.265625 57.375 23.78125 62.296875 \r\nQ 29.296875 67.234375 31.59375 71.875 \r\nL 37.25 71.875 \r\nz\r\n\" id=\"ArialMT-49\"/>\r\n      </defs>\r\n      <g style=\"fill:#262626;\" transform=\"translate(24.538 280.439634)scale(0.132 -0.132)\">\r\n       <use xlink:href=\"#ArialMT-49\"/>\r\n      </g>\r\n     </g>\r\n    </g>\r\n    <g id=\"ytick_3\">\r\n     <g id=\"line2d_3\">\r\n      <path clip-path=\"url(#p3605b6c102)\" d=\"M 41.378438 216.413659 \r\nL 599.378438 216.413659 \r\n\" style=\"fill:none;stroke:#ffffff;stroke-linecap:round;\"/>\r\n     </g>\r\n     <g id=\"text_11\">\r\n      <!-- 2 -->\r\n      <defs>\r\n       <path d=\"M 50.34375 8.453125 \r\nL 50.34375 0 \r\nL 3.03125 0 \r\nQ 2.9375 3.171875 4.046875 6.109375 \r\nQ 5.859375 10.9375 9.828125 15.625 \r\nQ 13.8125 20.3125 21.34375 26.46875 \r\nQ 33.015625 36.03125 37.109375 41.625 \r\nQ 41.21875 47.21875 41.21875 52.203125 \r\nQ 41.21875 57.421875 37.46875 61 \r\nQ 33.734375 64.59375 27.734375 64.59375 \r\nQ 21.390625 64.59375 17.578125 60.78125 \r\nQ 13.765625 56.984375 13.71875 50.25 \r\nL 4.6875 51.171875 \r\nQ 5.609375 61.28125 11.65625 66.578125 \r\nQ 17.71875 71.875 27.9375 71.875 \r\nQ 38.234375 71.875 44.234375 66.15625 \r\nQ 50.25 60.453125 50.25 52 \r\nQ 50.25 47.703125 48.484375 43.546875 \r\nQ 46.734375 39.40625 42.65625 34.8125 \r\nQ 38.578125 30.21875 29.109375 22.21875 \r\nQ 21.1875 15.578125 18.9375 13.203125 \r\nQ 16.703125 10.84375 15.234375 8.453125 \r\nz\r\n\" id=\"ArialMT-50\"/>\r\n      </defs>\r\n      <g style=\"fill:#262626;\" transform=\"translate(24.538 221.137815)scale(0.132 -0.132)\">\r\n       <use xlink:href=\"#ArialMT-50\"/>\r\n      </g>\r\n     </g>\r\n    </g>\r\n    <g id=\"ytick_4\">\r\n     <g id=\"line2d_4\">\r\n      <path clip-path=\"url(#p3605b6c102)\" d=\"M 41.378438 157.111841 \r\nL 599.378438 157.111841 \r\n\" style=\"fill:none;stroke:#ffffff;stroke-linecap:round;\"/>\r\n     </g>\r\n     <g id=\"text_12\">\r\n      <!-- 3 -->\r\n      <defs>\r\n       <path d=\"M 4.203125 18.890625 \r\nL 12.984375 20.0625 \r\nQ 14.5 12.59375 18.140625 9.296875 \r\nQ 21.78125 6 27 6 \r\nQ 33.203125 6 37.46875 10.296875 \r\nQ 41.75 14.59375 41.75 20.953125 \r\nQ 41.75 27 37.796875 30.921875 \r\nQ 33.84375 34.859375 27.734375 34.859375 \r\nQ 25.25 34.859375 21.53125 33.890625 \r\nL 22.515625 41.609375 \r\nQ 23.390625 41.5 23.921875 41.5 \r\nQ 29.546875 41.5 34.03125 44.421875 \r\nQ 38.53125 47.359375 38.53125 53.46875 \r\nQ 38.53125 58.296875 35.25 61.46875 \r\nQ 31.984375 64.65625 26.8125 64.65625 \r\nQ 21.6875 64.65625 18.265625 61.421875 \r\nQ 14.84375 58.203125 13.875 51.765625 \r\nL 5.078125 53.328125 \r\nQ 6.6875 62.15625 12.390625 67.015625 \r\nQ 18.109375 71.875 26.609375 71.875 \r\nQ 32.46875 71.875 37.390625 69.359375 \r\nQ 42.328125 66.84375 44.9375 62.5 \r\nQ 47.5625 58.15625 47.5625 53.265625 \r\nQ 47.5625 48.640625 45.0625 44.828125 \r\nQ 42.578125 41.015625 37.703125 38.765625 \r\nQ 44.046875 37.3125 47.5625 32.6875 \r\nQ 51.078125 28.078125 51.078125 21.140625 \r\nQ 51.078125 11.765625 44.234375 5.25 \r\nQ 37.40625 -1.265625 26.953125 -1.265625 \r\nQ 17.53125 -1.265625 11.296875 4.34375 \r\nQ 5.078125 9.96875 4.203125 18.890625 \r\nz\r\n\" id=\"ArialMT-51\"/>\r\n      </defs>\r\n      <g style=\"fill:#262626;\" transform=\"translate(24.538 161.835997)scale(0.132 -0.132)\">\r\n       <use xlink:href=\"#ArialMT-51\"/>\r\n      </g>\r\n     </g>\r\n    </g>\r\n    <g id=\"ytick_5\">\r\n     <g id=\"line2d_5\">\r\n      <path clip-path=\"url(#p3605b6c102)\" d=\"M 41.378438 97.810023 \r\nL 599.378438 97.810023 \r\n\" style=\"fill:none;stroke:#ffffff;stroke-linecap:round;\"/>\r\n     </g>\r\n     <g id=\"text_13\">\r\n      <!-- 4 -->\r\n      <defs>\r\n       <path d=\"M 32.328125 0 \r\nL 32.328125 17.140625 \r\nL 1.265625 17.140625 \r\nL 1.265625 25.203125 \r\nL 33.9375 71.578125 \r\nL 41.109375 71.578125 \r\nL 41.109375 25.203125 \r\nL 50.78125 25.203125 \r\nL 50.78125 17.140625 \r\nL 41.109375 17.140625 \r\nL 41.109375 0 \r\nz\r\nM 32.328125 25.203125 \r\nL 32.328125 57.46875 \r\nL 9.90625 25.203125 \r\nz\r\n\" id=\"ArialMT-52\"/>\r\n      </defs>\r\n      <g style=\"fill:#262626;\" transform=\"translate(24.538 102.534179)scale(0.132 -0.132)\">\r\n       <use xlink:href=\"#ArialMT-52\"/>\r\n      </g>\r\n     </g>\r\n    </g>\r\n    <g id=\"ytick_6\">\r\n     <g id=\"line2d_6\">\r\n      <path clip-path=\"url(#p3605b6c102)\" d=\"M 41.378438 38.508205 \r\nL 599.378438 38.508205 \r\n\" style=\"fill:none;stroke:#ffffff;stroke-linecap:round;\"/>\r\n     </g>\r\n     <g id=\"text_14\">\r\n      <!-- 5 -->\r\n      <defs>\r\n       <path d=\"M 4.15625 18.75 \r\nL 13.375 19.53125 \r\nQ 14.40625 12.796875 18.140625 9.390625 \r\nQ 21.875 6 27.15625 6 \r\nQ 33.5 6 37.890625 10.78125 \r\nQ 42.28125 15.578125 42.28125 23.484375 \r\nQ 42.28125 31 38.0625 35.34375 \r\nQ 33.84375 39.703125 27 39.703125 \r\nQ 22.75 39.703125 19.328125 37.765625 \r\nQ 15.921875 35.84375 13.96875 32.765625 \r\nL 5.71875 33.84375 \r\nL 12.640625 70.609375 \r\nL 48.25 70.609375 \r\nL 48.25 62.203125 \r\nL 19.671875 62.203125 \r\nL 15.828125 42.96875 \r\nQ 22.265625 47.46875 29.34375 47.46875 \r\nQ 38.71875 47.46875 45.15625 40.96875 \r\nQ 51.609375 34.46875 51.609375 24.265625 \r\nQ 51.609375 14.546875 45.953125 7.46875 \r\nQ 39.0625 -1.21875 27.15625 -1.21875 \r\nQ 17.390625 -1.21875 11.203125 4.25 \r\nQ 5.03125 9.71875 4.15625 18.75 \r\nz\r\n\" id=\"ArialMT-53\"/>\r\n      </defs>\r\n      <g style=\"fill:#262626;\" transform=\"translate(24.538 43.232361)scale(0.132 -0.132)\">\r\n       <use xlink:href=\"#ArialMT-53\"/>\r\n      </g>\r\n     </g>\r\n    </g>\r\n    <g id=\"text_15\">\r\n     <!-- Rating -->\r\n     <defs>\r\n      <path d=\"M 7.859375 0 \r\nL 7.859375 71.578125 \r\nL 39.59375 71.578125 \r\nQ 49.171875 71.578125 54.140625 69.640625 \r\nQ 59.125 67.71875 62.109375 62.828125 \r\nQ 65.09375 57.953125 65.09375 52.046875 \r\nQ 65.09375 44.4375 60.15625 39.203125 \r\nQ 55.21875 33.984375 44.921875 32.5625 \r\nQ 48.6875 30.765625 50.640625 29 \r\nQ 54.78125 25.203125 58.5 19.484375 \r\nL 70.953125 0 \r\nL 59.03125 0 \r\nL 49.5625 14.890625 \r\nQ 45.40625 21.34375 42.71875 24.75 \r\nQ 40.046875 28.171875 37.921875 29.53125 \r\nQ 35.796875 30.90625 33.59375 31.453125 \r\nQ 31.984375 31.78125 28.328125 31.78125 \r\nL 17.328125 31.78125 \r\nL 17.328125 0 \r\nz\r\nM 17.328125 39.984375 \r\nL 37.703125 39.984375 \r\nQ 44.1875 39.984375 47.84375 41.328125 \r\nQ 51.515625 42.671875 53.421875 45.625 \r\nQ 55.328125 48.578125 55.328125 52.046875 \r\nQ 55.328125 57.125 51.640625 60.390625 \r\nQ 47.953125 63.671875 39.984375 63.671875 \r\nL 17.328125 63.671875 \r\nz\r\n\" id=\"ArialMT-82\"/>\r\n      <path d=\"M 6.640625 61.46875 \r\nL 6.640625 71.578125 \r\nL 15.4375 71.578125 \r\nL 15.4375 61.46875 \r\nz\r\nM 6.640625 0 \r\nL 6.640625 51.859375 \r\nL 15.4375 51.859375 \r\nL 15.4375 0 \r\nz\r\n\" id=\"ArialMT-105\"/>\r\n      <path d=\"M 4.984375 -4.296875 \r\nL 13.53125 -5.5625 \r\nQ 14.0625 -9.515625 16.5 -11.328125 \r\nQ 19.78125 -13.765625 25.4375 -13.765625 \r\nQ 31.546875 -13.765625 34.859375 -11.328125 \r\nQ 38.1875 -8.890625 39.359375 -4.5 \r\nQ 40.046875 -1.8125 39.984375 6.78125 \r\nQ 34.234375 0 25.640625 0 \r\nQ 14.9375 0 9.078125 7.71875 \r\nQ 3.21875 15.4375 3.21875 26.21875 \r\nQ 3.21875 33.640625 5.90625 39.90625 \r\nQ 8.59375 46.1875 13.6875 49.609375 \r\nQ 18.796875 53.03125 25.6875 53.03125 \r\nQ 34.859375 53.03125 40.828125 45.609375 \r\nL 40.828125 51.859375 \r\nL 48.921875 51.859375 \r\nL 48.921875 7.03125 \r\nQ 48.921875 -5.078125 46.453125 -10.125 \r\nQ 44 -15.1875 38.640625 -18.109375 \r\nQ 33.296875 -21.046875 25.484375 -21.046875 \r\nQ 16.21875 -21.046875 10.5 -16.875 \r\nQ 4.78125 -12.703125 4.984375 -4.296875 \r\nz\r\nM 12.25 26.859375 \r\nQ 12.25 16.65625 16.296875 11.96875 \r\nQ 20.359375 7.28125 26.46875 7.28125 \r\nQ 32.515625 7.28125 36.609375 11.9375 \r\nQ 40.71875 16.609375 40.71875 26.5625 \r\nQ 40.71875 36.078125 36.5 40.90625 \r\nQ 32.28125 45.75 26.3125 45.75 \r\nQ 20.453125 45.75 16.34375 40.984375 \r\nQ 12.25 36.234375 12.25 26.859375 \r\nz\r\n\" id=\"ArialMT-103\"/>\r\n     </defs>\r\n     <g style=\"fill:#262626;\" transform=\"translate(17.50725 207.574125)rotate(-90)scale(0.144 -0.144)\">\r\n      <use xlink:href=\"#ArialMT-82\"/>\r\n      <use x=\"72.216797\" xlink:href=\"#ArialMT-97\"/>\r\n      <use x=\"127.832031\" xlink:href=\"#ArialMT-116\"/>\r\n      <use x=\"155.615234\" xlink:href=\"#ArialMT-105\"/>\r\n      <use x=\"177.832031\" xlink:href=\"#ArialMT-110\"/>\r\n      <use x=\"233.447266\" xlink:href=\"#ArialMT-103\"/>\r\n     </g>\r\n    </g>\r\n   </g>\r\n   <g id=\"patch_3\">\r\n    <path clip-path=\"url(#p3605b6c102)\" d=\"M 49.349866 157.111841 \r\nL 113.121295 157.111841 \r\nL 113.121295 97.810023 \r\nL 49.349866 97.810023 \r\nL 49.349866 157.111841 \r\nz\r\n\" style=\"fill:#5771e3;stroke:#474747;stroke-linejoin:miter;stroke-width:1.5;\"/>\r\n   </g>\r\n   <g id=\"patch_4\">\r\n    <path clip-path=\"url(#p3605b6c102)\" d=\"M 129.064152 142.286386 \r\nL 192.83558 142.286386 \r\nL 192.83558 82.984568 \r\nL 129.064152 82.984568 \r\nL 129.064152 142.286386 \r\nz\r\n\" style=\"fill:#1ea5ce;stroke:#474747;stroke-linejoin:miter;stroke-width:1.5;\"/>\r\n   </g>\r\n   <g id=\"patch_5\">\r\n    <path clip-path=\"url(#p3605b6c102)\" d=\"M 208.778437 157.111841 \r\nL 272.549866 157.111841 \r\nL 272.549866 82.984568 \r\nL 208.778437 82.984568 \r\nL 208.778437 157.111841 \r\nz\r\n\" style=\"fill:#56d7c4;stroke:#474747;stroke-linejoin:miter;stroke-width:1.5;\"/>\r\n   </g>\r\n   <g id=\"patch_6\">\r\n    <path clip-path=\"url(#p3605b6c102)\" d=\"M 288.492723 142.286386 \r\nL 352.264152 142.286386 \r\nL 352.264152 68.159114 \r\nL 288.492723 68.159114 \r\nL 288.492723 142.286386 \r\nz\r\n\" style=\"fill:#90efb7;stroke:#474747;stroke-linejoin:miter;stroke-width:1.5;\"/>\r\n   </g>\r\n   <g id=\"patch_7\">\r\n    <path clip-path=\"url(#p3605b6c102)\" d=\"M 368.207009 71.865477 \r\nL 431.978437 71.865477 \r\nL 431.978437 38.508205 \r\nL 368.207009 38.508205 \r\nL 368.207009 71.865477 \r\nz\r\n\" style=\"fill:#bfdf99;stroke:#474747;stroke-linejoin:miter;stroke-width:1.5;\"/>\r\n   </g>\r\n   <g id=\"patch_8\">\r\n    <path clip-path=\"url(#p3605b6c102)\" d=\"M 447.921295 127.460932 \r\nL 511.692723 127.460932 \r\nL 511.692723 127.460932 \r\nL 447.921295 127.460932 \r\nL 447.921295 127.460932 \r\nz\r\n\" style=\"fill:#ebb274;stroke:#474747;stroke-linejoin:miter;stroke-width:1.5;\"/>\r\n   </g>\r\n   <g id=\"patch_9\">\r\n    <path clip-path=\"url(#p3605b6c102)\" d=\"M 527.63558 38.508205 \r\nL 591.407009 38.508205 \r\nL 591.407009 38.508205 \r\nL 527.63558 38.508205 \r\nL 527.63558 38.508205 \r\nz\r\n\" style=\"fill:#e56d4a;stroke:#474747;stroke-linejoin:miter;stroke-width:1.5;\"/>\r\n   </g>\r\n   <g id=\"line2d_7\">\r\n    <path clip-path=\"url(#p3605b6c102)\" d=\"M 81.23558 157.111841 \r\nL 81.23558 246.064568 \r\n\" style=\"fill:none;stroke:#474747;stroke-linecap:round;stroke-width:1.5;\"/>\r\n   </g>\r\n   <g id=\"line2d_8\">\r\n    <path clip-path=\"url(#p3605b6c102)\" d=\"M 81.23558 97.810023 \r\nL 81.23558 38.508205 \r\n\" style=\"fill:none;stroke:#474747;stroke-linecap:round;stroke-width:1.5;\"/>\r\n   </g>\r\n   <g id=\"line2d_9\">\r\n    <path clip-path=\"url(#p3605b6c102)\" d=\"M 65.292723 246.064568 \r\nL 97.178438 246.064568 \r\n\" style=\"fill:none;stroke:#474747;stroke-linecap:round;stroke-width:1.5;\"/>\r\n   </g>\r\n   <g id=\"line2d_10\">\r\n    <path clip-path=\"url(#p3605b6c102)\" d=\"M 65.292723 38.508205 \r\nL 97.178438 38.508205 \r\n\" style=\"fill:none;stroke:#474747;stroke-linecap:round;stroke-width:1.5;\"/>\r\n   </g>\r\n   <g id=\"line2d_11\">\r\n    <defs>\r\n     <path d=\"M 0 3.535534 \r\nL 2.12132 0 \r\nL 0 -3.535534 \r\nL -2.12132 0 \r\nz\r\n\" id=\"m155f2eee1c\" style=\"stroke:#474747;stroke-linejoin:miter;\"/>\r\n    </defs>\r\n    <g clip-path=\"url(#p3605b6c102)\">\r\n     <use style=\"fill:#474747;stroke:#474747;stroke-linejoin:miter;\" x=\"81.23558\" xlink:href=\"#m155f2eee1c\" y=\"335.017295\"/>\r\n     <use style=\"fill:#474747;stroke:#474747;stroke-linejoin:miter;\" x=\"81.23558\" xlink:href=\"#m155f2eee1c\" y=\"305.366386\"/>\r\n     <use style=\"fill:#474747;stroke:#474747;stroke-linejoin:miter;\" x=\"81.23558\" xlink:href=\"#m155f2eee1c\" y=\"275.715477\"/>\r\n     <use style=\"fill:#474747;stroke:#474747;stroke-linejoin:miter;\" x=\"81.23558\" xlink:href=\"#m155f2eee1c\" y=\"335.017295\"/>\r\n     <use style=\"fill:#474747;stroke:#474747;stroke-linejoin:miter;\" x=\"81.23558\" xlink:href=\"#m155f2eee1c\" y=\"335.017295\"/>\r\n     <use style=\"fill:#474747;stroke:#474747;stroke-linejoin:miter;\" x=\"81.23558\" xlink:href=\"#m155f2eee1c\" y=\"305.366386\"/>\r\n     <use style=\"fill:#474747;stroke:#474747;stroke-linejoin:miter;\" x=\"81.23558\" xlink:href=\"#m155f2eee1c\" y=\"305.366386\"/>\r\n     <use style=\"fill:#474747;stroke:#474747;stroke-linejoin:miter;\" x=\"81.23558\" xlink:href=\"#m155f2eee1c\" y=\"320.191841\"/>\r\n     <use style=\"fill:#474747;stroke:#474747;stroke-linejoin:miter;\" x=\"81.23558\" xlink:href=\"#m155f2eee1c\" y=\"260.890023\"/>\r\n     <use style=\"fill:#474747;stroke:#474747;stroke-linejoin:miter;\" x=\"81.23558\" xlink:href=\"#m155f2eee1c\" y=\"320.191841\"/>\r\n     <use style=\"fill:#474747;stroke:#474747;stroke-linejoin:miter;\" x=\"81.23558\" xlink:href=\"#m155f2eee1c\" y=\"335.017295\"/>\r\n     <use style=\"fill:#474747;stroke:#474747;stroke-linejoin:miter;\" x=\"81.23558\" xlink:href=\"#m155f2eee1c\" y=\"305.366386\"/>\r\n     <use style=\"fill:#474747;stroke:#474747;stroke-linejoin:miter;\" x=\"81.23558\" xlink:href=\"#m155f2eee1c\" y=\"335.017295\"/>\r\n     <use style=\"fill:#474747;stroke:#474747;stroke-linejoin:miter;\" x=\"81.23558\" xlink:href=\"#m155f2eee1c\" y=\"260.890023\"/>\r\n     <use style=\"fill:#474747;stroke:#474747;stroke-linejoin:miter;\" x=\"81.23558\" xlink:href=\"#m155f2eee1c\" y=\"275.715477\"/>\r\n     <use style=\"fill:#474747;stroke:#474747;stroke-linejoin:miter;\" x=\"81.23558\" xlink:href=\"#m155f2eee1c\" y=\"275.715477\"/>\r\n     <use style=\"fill:#474747;stroke:#474747;stroke-linejoin:miter;\" x=\"81.23558\" xlink:href=\"#m155f2eee1c\" y=\"335.017295\"/>\r\n     <use style=\"fill:#474747;stroke:#474747;stroke-linejoin:miter;\" x=\"81.23558\" xlink:href=\"#m155f2eee1c\" y=\"320.191841\"/>\r\n    </g>\r\n   </g>\r\n   <g id=\"line2d_12\">\r\n    <path clip-path=\"url(#p3605b6c102)\" d=\"M 160.949866 142.286386 \r\nL 160.949866 231.239114 \r\n\" style=\"fill:none;stroke:#474747;stroke-linecap:round;stroke-width:1.5;\"/>\r\n   </g>\r\n   <g id=\"line2d_13\">\r\n    <path clip-path=\"url(#p3605b6c102)\" d=\"M 160.949866 82.984568 \r\nL 160.949866 38.508205 \r\n\" style=\"fill:none;stroke:#474747;stroke-linecap:round;stroke-width:1.5;\"/>\r\n   </g>\r\n   <g id=\"line2d_14\">\r\n    <path clip-path=\"url(#p3605b6c102)\" d=\"M 145.007009 231.239114 \r\nL 176.892723 231.239114 \r\n\" style=\"fill:none;stroke:#474747;stroke-linecap:round;stroke-width:1.5;\"/>\r\n   </g>\r\n   <g id=\"line2d_15\">\r\n    <path clip-path=\"url(#p3605b6c102)\" d=\"M 145.007009 38.508205 \r\nL 176.892723 38.508205 \r\n\" style=\"fill:none;stroke:#474747;stroke-linecap:round;stroke-width:1.5;\"/>\r\n   </g>\r\n   <g id=\"line2d_16\">\r\n    <g clip-path=\"url(#p3605b6c102)\">\r\n     <use style=\"fill:#474747;stroke:#474747;stroke-linejoin:miter;\" x=\"160.949866\" xlink:href=\"#m155f2eee1c\" y=\"275.715477\"/>\r\n     <use style=\"fill:#474747;stroke:#474747;stroke-linejoin:miter;\" x=\"160.949866\" xlink:href=\"#m155f2eee1c\" y=\"320.191841\"/>\r\n     <use style=\"fill:#474747;stroke:#474747;stroke-linejoin:miter;\" x=\"160.949866\" xlink:href=\"#m155f2eee1c\" y=\"335.017295\"/>\r\n     <use style=\"fill:#474747;stroke:#474747;stroke-linejoin:miter;\" x=\"160.949866\" xlink:href=\"#m155f2eee1c\" y=\"246.064568\"/>\r\n     <use style=\"fill:#474747;stroke:#474747;stroke-linejoin:miter;\" x=\"160.949866\" xlink:href=\"#m155f2eee1c\" y=\"320.191841\"/>\r\n     <use style=\"fill:#474747;stroke:#474747;stroke-linejoin:miter;\" x=\"160.949866\" xlink:href=\"#m155f2eee1c\" y=\"275.715477\"/>\r\n     <use style=\"fill:#474747;stroke:#474747;stroke-linejoin:miter;\" x=\"160.949866\" xlink:href=\"#m155f2eee1c\" y=\"275.715477\"/>\r\n     <use style=\"fill:#474747;stroke:#474747;stroke-linejoin:miter;\" x=\"160.949866\" xlink:href=\"#m155f2eee1c\" y=\"335.017295\"/>\r\n     <use style=\"fill:#474747;stroke:#474747;stroke-linejoin:miter;\" x=\"160.949866\" xlink:href=\"#m155f2eee1c\" y=\"275.715477\"/>\r\n     <use style=\"fill:#474747;stroke:#474747;stroke-linejoin:miter;\" x=\"160.949866\" xlink:href=\"#m155f2eee1c\" y=\"275.715477\"/>\r\n     <use style=\"fill:#474747;stroke:#474747;stroke-linejoin:miter;\" x=\"160.949866\" xlink:href=\"#m155f2eee1c\" y=\"335.017295\"/>\r\n     <use style=\"fill:#474747;stroke:#474747;stroke-linejoin:miter;\" x=\"160.949866\" xlink:href=\"#m155f2eee1c\" y=\"275.715477\"/>\r\n     <use style=\"fill:#474747;stroke:#474747;stroke-linejoin:miter;\" x=\"160.949866\" xlink:href=\"#m155f2eee1c\" y=\"335.017295\"/>\r\n     <use style=\"fill:#474747;stroke:#474747;stroke-linejoin:miter;\" x=\"160.949866\" xlink:href=\"#m155f2eee1c\" y=\"335.017295\"/>\r\n     <use style=\"fill:#474747;stroke:#474747;stroke-linejoin:miter;\" x=\"160.949866\" xlink:href=\"#m155f2eee1c\" y=\"246.064568\"/>\r\n     <use style=\"fill:#474747;stroke:#474747;stroke-linejoin:miter;\" x=\"160.949866\" xlink:href=\"#m155f2eee1c\" y=\"246.064568\"/>\r\n     <use style=\"fill:#474747;stroke:#474747;stroke-linejoin:miter;\" x=\"160.949866\" xlink:href=\"#m155f2eee1c\" y=\"275.715477\"/>\r\n     <use style=\"fill:#474747;stroke:#474747;stroke-linejoin:miter;\" x=\"160.949866\" xlink:href=\"#m155f2eee1c\" y=\"320.191841\"/>\r\n     <use style=\"fill:#474747;stroke:#474747;stroke-linejoin:miter;\" x=\"160.949866\" xlink:href=\"#m155f2eee1c\" y=\"290.540932\"/>\r\n     <use style=\"fill:#474747;stroke:#474747;stroke-linejoin:miter;\" x=\"160.949866\" xlink:href=\"#m155f2eee1c\" y=\"246.064568\"/>\r\n     <use style=\"fill:#474747;stroke:#474747;stroke-linejoin:miter;\" x=\"160.949866\" xlink:href=\"#m155f2eee1c\" y=\"335.017295\"/>\r\n     <use style=\"fill:#474747;stroke:#474747;stroke-linejoin:miter;\" x=\"160.949866\" xlink:href=\"#m155f2eee1c\" y=\"335.017295\"/>\r\n     <use style=\"fill:#474747;stroke:#474747;stroke-linejoin:miter;\" x=\"160.949866\" xlink:href=\"#m155f2eee1c\" y=\"335.017295\"/>\r\n     <use style=\"fill:#474747;stroke:#474747;stroke-linejoin:miter;\" x=\"160.949866\" xlink:href=\"#m155f2eee1c\" y=\"246.064568\"/>\r\n     <use style=\"fill:#474747;stroke:#474747;stroke-linejoin:miter;\" x=\"160.949866\" xlink:href=\"#m155f2eee1c\" y=\"320.191841\"/>\r\n     <use style=\"fill:#474747;stroke:#474747;stroke-linejoin:miter;\" x=\"160.949866\" xlink:href=\"#m155f2eee1c\" y=\"275.715477\"/>\r\n     <use style=\"fill:#474747;stroke:#474747;stroke-linejoin:miter;\" x=\"160.949866\" xlink:href=\"#m155f2eee1c\" y=\"246.064568\"/>\r\n     <use style=\"fill:#474747;stroke:#474747;stroke-linejoin:miter;\" x=\"160.949866\" xlink:href=\"#m155f2eee1c\" y=\"275.715477\"/>\r\n     <use style=\"fill:#474747;stroke:#474747;stroke-linejoin:miter;\" x=\"160.949866\" xlink:href=\"#m155f2eee1c\" y=\"305.366386\"/>\r\n     <use style=\"fill:#474747;stroke:#474747;stroke-linejoin:miter;\" x=\"160.949866\" xlink:href=\"#m155f2eee1c\" y=\"246.064568\"/>\r\n     <use style=\"fill:#474747;stroke:#474747;stroke-linejoin:miter;\" x=\"160.949866\" xlink:href=\"#m155f2eee1c\" y=\"246.064568\"/>\r\n     <use style=\"fill:#474747;stroke:#474747;stroke-linejoin:miter;\" x=\"160.949866\" xlink:href=\"#m155f2eee1c\" y=\"275.715477\"/>\r\n     <use style=\"fill:#474747;stroke:#474747;stroke-linejoin:miter;\" x=\"160.949866\" xlink:href=\"#m155f2eee1c\" y=\"275.715477\"/>\r\n     <use style=\"fill:#474747;stroke:#474747;stroke-linejoin:miter;\" x=\"160.949866\" xlink:href=\"#m155f2eee1c\" y=\"275.715477\"/>\r\n     <use style=\"fill:#474747;stroke:#474747;stroke-linejoin:miter;\" x=\"160.949866\" xlink:href=\"#m155f2eee1c\" y=\"246.064568\"/>\r\n     <use style=\"fill:#474747;stroke:#474747;stroke-linejoin:miter;\" x=\"160.949866\" xlink:href=\"#m155f2eee1c\" y=\"246.064568\"/>\r\n     <use style=\"fill:#474747;stroke:#474747;stroke-linejoin:miter;\" x=\"160.949866\" xlink:href=\"#m155f2eee1c\" y=\"246.064568\"/>\r\n     <use style=\"fill:#474747;stroke:#474747;stroke-linejoin:miter;\" x=\"160.949866\" xlink:href=\"#m155f2eee1c\" y=\"269.785295\"/>\r\n     <use style=\"fill:#474747;stroke:#474747;stroke-linejoin:miter;\" x=\"160.949866\" xlink:href=\"#m155f2eee1c\" y=\"260.890023\"/>\r\n     <use style=\"fill:#474747;stroke:#474747;stroke-linejoin:miter;\" x=\"160.949866\" xlink:href=\"#m155f2eee1c\" y=\"246.064568\"/>\r\n     <use style=\"fill:#474747;stroke:#474747;stroke-linejoin:miter;\" x=\"160.949866\" xlink:href=\"#m155f2eee1c\" y=\"335.017295\"/>\r\n     <use style=\"fill:#474747;stroke:#474747;stroke-linejoin:miter;\" x=\"160.949866\" xlink:href=\"#m155f2eee1c\" y=\"305.366386\"/>\r\n     <use style=\"fill:#474747;stroke:#474747;stroke-linejoin:miter;\" x=\"160.949866\" xlink:href=\"#m155f2eee1c\" y=\"281.645659\"/>\r\n     <use style=\"fill:#474747;stroke:#474747;stroke-linejoin:miter;\" x=\"160.949866\" xlink:href=\"#m155f2eee1c\" y=\"246.064568\"/>\r\n     <use style=\"fill:#474747;stroke:#474747;stroke-linejoin:miter;\" x=\"160.949866\" xlink:href=\"#m155f2eee1c\" y=\"275.715477\"/>\r\n     <use style=\"fill:#474747;stroke:#474747;stroke-linejoin:miter;\" x=\"160.949866\" xlink:href=\"#m155f2eee1c\" y=\"335.017295\"/>\r\n     <use style=\"fill:#474747;stroke:#474747;stroke-linejoin:miter;\" x=\"160.949866\" xlink:href=\"#m155f2eee1c\" y=\"246.064568\"/>\r\n     <use style=\"fill:#474747;stroke:#474747;stroke-linejoin:miter;\" x=\"160.949866\" xlink:href=\"#m155f2eee1c\" y=\"246.064568\"/>\r\n     <use style=\"fill:#474747;stroke:#474747;stroke-linejoin:miter;\" x=\"160.949866\" xlink:href=\"#m155f2eee1c\" y=\"305.366386\"/>\r\n     <use style=\"fill:#474747;stroke:#474747;stroke-linejoin:miter;\" x=\"160.949866\" xlink:href=\"#m155f2eee1c\" y=\"320.191841\"/>\r\n     <use style=\"fill:#474747;stroke:#474747;stroke-linejoin:miter;\" x=\"160.949866\" xlink:href=\"#m155f2eee1c\" y=\"246.064568\"/>\r\n     <use style=\"fill:#474747;stroke:#474747;stroke-linejoin:miter;\" x=\"160.949866\" xlink:href=\"#m155f2eee1c\" y=\"335.017295\"/>\r\n     <use style=\"fill:#474747;stroke:#474747;stroke-linejoin:miter;\" x=\"160.949866\" xlink:href=\"#m155f2eee1c\" y=\"335.017295\"/>\r\n     <use style=\"fill:#474747;stroke:#474747;stroke-linejoin:miter;\" x=\"160.949866\" xlink:href=\"#m155f2eee1c\" y=\"329.087114\"/>\r\n     <use style=\"fill:#474747;stroke:#474747;stroke-linejoin:miter;\" x=\"160.949866\" xlink:href=\"#m155f2eee1c\" y=\"246.064568\"/>\r\n     <use style=\"fill:#474747;stroke:#474747;stroke-linejoin:miter;\" x=\"160.949866\" xlink:href=\"#m155f2eee1c\" y=\"246.064568\"/>\r\n     <use style=\"fill:#474747;stroke:#474747;stroke-linejoin:miter;\" x=\"160.949866\" xlink:href=\"#m155f2eee1c\" y=\"269.785295\"/>\r\n     <use style=\"fill:#474747;stroke:#474747;stroke-linejoin:miter;\" x=\"160.949866\" xlink:href=\"#m155f2eee1c\" y=\"305.366386\"/>\r\n     <use style=\"fill:#474747;stroke:#474747;stroke-linejoin:miter;\" x=\"160.949866\" xlink:href=\"#m155f2eee1c\" y=\"246.064568\"/>\r\n     <use style=\"fill:#474747;stroke:#474747;stroke-linejoin:miter;\" x=\"160.949866\" xlink:href=\"#m155f2eee1c\" y=\"275.715477\"/>\r\n     <use style=\"fill:#474747;stroke:#474747;stroke-linejoin:miter;\" x=\"160.949866\" xlink:href=\"#m155f2eee1c\" y=\"246.064568\"/>\r\n     <use style=\"fill:#474747;stroke:#474747;stroke-linejoin:miter;\" x=\"160.949866\" xlink:href=\"#m155f2eee1c\" y=\"275.715477\"/>\r\n     <use style=\"fill:#474747;stroke:#474747;stroke-linejoin:miter;\" x=\"160.949866\" xlink:href=\"#m155f2eee1c\" y=\"275.715477\"/>\r\n     <use style=\"fill:#474747;stroke:#474747;stroke-linejoin:miter;\" x=\"160.949866\" xlink:href=\"#m155f2eee1c\" y=\"275.715477\"/>\r\n     <use style=\"fill:#474747;stroke:#474747;stroke-linejoin:miter;\" x=\"160.949866\" xlink:href=\"#m155f2eee1c\" y=\"246.064568\"/>\r\n     <use style=\"fill:#474747;stroke:#474747;stroke-linejoin:miter;\" x=\"160.949866\" xlink:href=\"#m155f2eee1c\" y=\"275.715477\"/>\r\n     <use style=\"fill:#474747;stroke:#474747;stroke-linejoin:miter;\" x=\"160.949866\" xlink:href=\"#m155f2eee1c\" y=\"275.715477\"/>\r\n     <use style=\"fill:#474747;stroke:#474747;stroke-linejoin:miter;\" x=\"160.949866\" xlink:href=\"#m155f2eee1c\" y=\"305.366386\"/>\r\n    </g>\r\n   </g>\r\n   <g id=\"line2d_17\">\r\n    <path clip-path=\"url(#p3605b6c102)\" d=\"M 240.664152 157.111841 \r\nL 240.664152 246.064568 \r\n\" style=\"fill:none;stroke:#474747;stroke-linecap:round;stroke-width:1.5;\"/>\r\n   </g>\r\n   <g id=\"line2d_18\">\r\n    <path clip-path=\"url(#p3605b6c102)\" d=\"M 240.664152 82.984568 \r\nL 240.664152 38.508205 \r\n\" style=\"fill:none;stroke:#474747;stroke-linecap:round;stroke-width:1.5;\"/>\r\n   </g>\r\n   <g id=\"line2d_19\">\r\n    <path clip-path=\"url(#p3605b6c102)\" d=\"M 224.721295 246.064568 \r\nL 256.607009 246.064568 \r\n\" style=\"fill:none;stroke:#474747;stroke-linecap:round;stroke-width:1.5;\"/>\r\n   </g>\r\n   <g id=\"line2d_20\">\r\n    <path clip-path=\"url(#p3605b6c102)\" d=\"M 224.721295 38.508205 \r\nL 256.607009 38.508205 \r\n\" style=\"fill:none;stroke:#474747;stroke-linecap:round;stroke-width:1.5;\"/>\r\n   </g>\r\n   <g id=\"line2d_21\">\r\n    <g clip-path=\"url(#p3605b6c102)\">\r\n     <use style=\"fill:#474747;stroke:#474747;stroke-linejoin:miter;\" x=\"240.664152\" xlink:href=\"#m155f2eee1c\" y=\"275.715477\"/>\r\n     <use style=\"fill:#474747;stroke:#474747;stroke-linejoin:miter;\" x=\"240.664152\" xlink:href=\"#m155f2eee1c\" y=\"275.715477\"/>\r\n     <use style=\"fill:#474747;stroke:#474747;stroke-linejoin:miter;\" x=\"240.664152\" xlink:href=\"#m155f2eee1c\" y=\"320.191841\"/>\r\n     <use style=\"fill:#474747;stroke:#474747;stroke-linejoin:miter;\" x=\"240.664152\" xlink:href=\"#m155f2eee1c\" y=\"305.366386\"/>\r\n     <use style=\"fill:#474747;stroke:#474747;stroke-linejoin:miter;\" x=\"240.664152\" xlink:href=\"#m155f2eee1c\" y=\"335.017295\"/>\r\n    </g>\r\n   </g>\r\n   <g id=\"line2d_22\">\r\n    <path clip-path=\"url(#p3605b6c102)\" d=\"M 320.378437 142.286386 \r\nL 320.378437 246.064568 \r\n\" style=\"fill:none;stroke:#474747;stroke-linecap:round;stroke-width:1.5;\"/>\r\n   </g>\r\n   <g id=\"line2d_23\">\r\n    <path clip-path=\"url(#p3605b6c102)\" d=\"M 320.378437 68.159114 \r\nL 320.378437 38.508205 \r\n\" style=\"fill:none;stroke:#474747;stroke-linecap:round;stroke-width:1.5;\"/>\r\n   </g>\r\n   <g id=\"line2d_24\">\r\n    <path clip-path=\"url(#p3605b6c102)\" d=\"M 304.43558 246.064568 \r\nL 336.321295 246.064568 \r\n\" style=\"fill:none;stroke:#474747;stroke-linecap:round;stroke-width:1.5;\"/>\r\n   </g>\r\n   <g id=\"line2d_25\">\r\n    <path clip-path=\"url(#p3605b6c102)\" d=\"M 304.43558 38.508205 \r\nL 336.321295 38.508205 \r\n\" style=\"fill:none;stroke:#474747;stroke-linecap:round;stroke-width:1.5;\"/>\r\n   </g>\r\n   <g id=\"line2d_26\">\r\n    <g clip-path=\"url(#p3605b6c102)\">\r\n     <use style=\"fill:#474747;stroke:#474747;stroke-linejoin:miter;\" x=\"320.378437\" xlink:href=\"#m155f2eee1c\" y=\"335.017295\"/>\r\n     <use style=\"fill:#474747;stroke:#474747;stroke-linejoin:miter;\" x=\"320.378437\" xlink:href=\"#m155f2eee1c\" y=\"335.017295\"/>\r\n     <use style=\"fill:#474747;stroke:#474747;stroke-linejoin:miter;\" x=\"320.378437\" xlink:href=\"#m155f2eee1c\" y=\"335.017295\"/>\r\n     <use style=\"fill:#474747;stroke:#474747;stroke-linejoin:miter;\" x=\"320.378437\" xlink:href=\"#m155f2eee1c\" y=\"335.017295\"/>\r\n     <use style=\"fill:#474747;stroke:#474747;stroke-linejoin:miter;\" x=\"320.378437\" xlink:href=\"#m155f2eee1c\" y=\"275.715477\"/>\r\n     <use style=\"fill:#474747;stroke:#474747;stroke-linejoin:miter;\" x=\"320.378437\" xlink:href=\"#m155f2eee1c\" y=\"335.017295\"/>\r\n     <use style=\"fill:#474747;stroke:#474747;stroke-linejoin:miter;\" x=\"320.378437\" xlink:href=\"#m155f2eee1c\" y=\"305.366386\"/>\r\n     <use style=\"fill:#474747;stroke:#474747;stroke-linejoin:miter;\" x=\"320.378437\" xlink:href=\"#m155f2eee1c\" y=\"260.890023\"/>\r\n     <use style=\"fill:#474747;stroke:#474747;stroke-linejoin:miter;\" x=\"320.378437\" xlink:href=\"#m155f2eee1c\" y=\"260.890023\"/>\r\n     <use style=\"fill:#474747;stroke:#474747;stroke-linejoin:miter;\" x=\"320.378437\" xlink:href=\"#m155f2eee1c\" y=\"275.715477\"/>\r\n     <use style=\"fill:#474747;stroke:#474747;stroke-linejoin:miter;\" x=\"320.378437\" xlink:href=\"#m155f2eee1c\" y=\"320.191841\"/>\r\n     <use style=\"fill:#474747;stroke:#474747;stroke-linejoin:miter;\" x=\"320.378437\" xlink:href=\"#m155f2eee1c\" y=\"260.890023\"/>\r\n     <use style=\"fill:#474747;stroke:#474747;stroke-linejoin:miter;\" x=\"320.378437\" xlink:href=\"#m155f2eee1c\" y=\"305.366386\"/>\r\n     <use style=\"fill:#474747;stroke:#474747;stroke-linejoin:miter;\" x=\"320.378437\" xlink:href=\"#m155f2eee1c\" y=\"260.890023\"/>\r\n     <use style=\"fill:#474747;stroke:#474747;stroke-linejoin:miter;\" x=\"320.378437\" xlink:href=\"#m155f2eee1c\" y=\"260.890023\"/>\r\n     <use style=\"fill:#474747;stroke:#474747;stroke-linejoin:miter;\" x=\"320.378437\" xlink:href=\"#m155f2eee1c\" y=\"320.191841\"/>\r\n     <use style=\"fill:#474747;stroke:#474747;stroke-linejoin:miter;\" x=\"320.378437\" xlink:href=\"#m155f2eee1c\" y=\"260.890023\"/>\r\n     <use style=\"fill:#474747;stroke:#474747;stroke-linejoin:miter;\" x=\"320.378437\" xlink:href=\"#m155f2eee1c\" y=\"305.366386\"/>\r\n     <use style=\"fill:#474747;stroke:#474747;stroke-linejoin:miter;\" x=\"320.378437\" xlink:href=\"#m155f2eee1c\" y=\"260.890023\"/>\r\n     <use style=\"fill:#474747;stroke:#474747;stroke-linejoin:miter;\" x=\"320.378437\" xlink:href=\"#m155f2eee1c\" y=\"335.017295\"/>\r\n     <use style=\"fill:#474747;stroke:#474747;stroke-linejoin:miter;\" x=\"320.378437\" xlink:href=\"#m155f2eee1c\" y=\"335.017295\"/>\r\n     <use style=\"fill:#474747;stroke:#474747;stroke-linejoin:miter;\" x=\"320.378437\" xlink:href=\"#m155f2eee1c\" y=\"305.366386\"/>\r\n    </g>\r\n   </g>\r\n   <g id=\"line2d_27\">\r\n    <path clip-path=\"url(#p3605b6c102)\" d=\"M 400.092723 71.865477 \r\nL 400.092723 82.984568 \r\n\" style=\"fill:none;stroke:#474747;stroke-linecap:round;stroke-width:1.5;\"/>\r\n   </g>\r\n   <g id=\"line2d_28\">\r\n    <path clip-path=\"url(#p3605b6c102)\" d=\"M 400.092723 38.508205 \r\nL 400.092723 38.508205 \r\n\" style=\"fill:none;stroke:#474747;stroke-linecap:round;stroke-width:1.5;\"/>\r\n   </g>\r\n   <g id=\"line2d_29\">\r\n    <path clip-path=\"url(#p3605b6c102)\" d=\"M 384.149866 82.984568 \r\nL 416.03558 82.984568 \r\n\" style=\"fill:none;stroke:#474747;stroke-linecap:round;stroke-width:1.5;\"/>\r\n   </g>\r\n   <g id=\"line2d_30\">\r\n    <path clip-path=\"url(#p3605b6c102)\" d=\"M 384.149866 38.508205 \r\nL 416.03558 38.508205 \r\n\" style=\"fill:none;stroke:#474747;stroke-linecap:round;stroke-width:1.5;\"/>\r\n   </g>\r\n   <g id=\"line2d_31\">\r\n    <g clip-path=\"url(#p3605b6c102)\">\r\n     <use style=\"fill:#474747;stroke:#474747;stroke-linejoin:miter;\" x=\"400.092723\" xlink:href=\"#m155f2eee1c\" y=\"246.064568\"/>\r\n    </g>\r\n   </g>\r\n   <g id=\"line2d_32\">\r\n    <path clip-path=\"url(#p3605b6c102)\" d=\"M 479.807009 127.460932 \r\nL 479.807009 127.460932 \r\n\" style=\"fill:none;stroke:#474747;stroke-linecap:round;stroke-width:1.5;\"/>\r\n   </g>\r\n   <g id=\"line2d_33\">\r\n    <path clip-path=\"url(#p3605b6c102)\" d=\"M 479.807009 127.460932 \r\nL 479.807009 127.460932 \r\n\" style=\"fill:none;stroke:#474747;stroke-linecap:round;stroke-width:1.5;\"/>\r\n   </g>\r\n   <g id=\"line2d_34\">\r\n    <path clip-path=\"url(#p3605b6c102)\" d=\"M 463.864152 127.460932 \r\nL 495.749866 127.460932 \r\n\" style=\"fill:none;stroke:#474747;stroke-linecap:round;stroke-width:1.5;\"/>\r\n   </g>\r\n   <g id=\"line2d_35\">\r\n    <path clip-path=\"url(#p3605b6c102)\" d=\"M 463.864152 127.460932 \r\nL 495.749866 127.460932 \r\n\" style=\"fill:none;stroke:#474747;stroke-linecap:round;stroke-width:1.5;\"/>\r\n   </g>\r\n   <g id=\"line2d_36\"/>\r\n   <g id=\"line2d_37\">\r\n    <path clip-path=\"url(#p3605b6c102)\" d=\"M 559.521295 38.508205 \r\nL 559.521295 38.508205 \r\n\" style=\"fill:none;stroke:#474747;stroke-linecap:round;stroke-width:1.5;\"/>\r\n   </g>\r\n   <g id=\"line2d_38\">\r\n    <path clip-path=\"url(#p3605b6c102)\" d=\"M 559.521295 38.508205 \r\nL 559.521295 38.508205 \r\n\" style=\"fill:none;stroke:#474747;stroke-linecap:round;stroke-width:1.5;\"/>\r\n   </g>\r\n   <g id=\"line2d_39\">\r\n    <path clip-path=\"url(#p3605b6c102)\" d=\"M 543.578437 38.508205 \r\nL 575.464152 38.508205 \r\n\" style=\"fill:none;stroke:#474747;stroke-linecap:round;stroke-width:1.5;\"/>\r\n   </g>\r\n   <g id=\"line2d_40\">\r\n    <path clip-path=\"url(#p3605b6c102)\" d=\"M 543.578437 38.508205 \r\nL 575.464152 38.508205 \r\n\" style=\"fill:none;stroke:#474747;stroke-linecap:round;stroke-width:1.5;\"/>\r\n   </g>\r\n   <g id=\"line2d_41\"/>\r\n   <g id=\"line2d_42\">\r\n    <path clip-path=\"url(#p3605b6c102)\" d=\"M 49.349866 127.460932 \r\nL 113.121295 127.460932 \r\n\" style=\"fill:none;stroke:#474747;stroke-linecap:round;stroke-width:1.5;\"/>\r\n   </g>\r\n   <g id=\"line2d_43\">\r\n    <path clip-path=\"url(#p3605b6c102)\" d=\"M 129.064152 112.635477 \r\nL 192.83558 112.635477 \r\n\" style=\"fill:none;stroke:#474747;stroke-linecap:round;stroke-width:1.5;\"/>\r\n   </g>\r\n   <g id=\"line2d_44\">\r\n    <path clip-path=\"url(#p3605b6c102)\" d=\"M 208.778437 112.635477 \r\nL 272.549866 112.635477 \r\n\" style=\"fill:none;stroke:#474747;stroke-linecap:round;stroke-width:1.5;\"/>\r\n   </g>\r\n   <g id=\"line2d_45\">\r\n    <path clip-path=\"url(#p3605b6c102)\" d=\"M 288.492723 112.635477 \r\nL 352.264152 112.635477 \r\n\" style=\"fill:none;stroke:#474747;stroke-linecap:round;stroke-width:1.5;\"/>\r\n   </g>\r\n   <g id=\"line2d_46\">\r\n    <path clip-path=\"url(#p3605b6c102)\" d=\"M 368.207009 38.508205 \r\nL 431.978437 38.508205 \r\n\" style=\"fill:none;stroke:#474747;stroke-linecap:round;stroke-width:1.5;\"/>\r\n   </g>\r\n   <g id=\"line2d_47\">\r\n    <path clip-path=\"url(#p3605b6c102)\" d=\"M 447.921295 127.460932 \r\nL 511.692723 127.460932 \r\n\" style=\"fill:none;stroke:#474747;stroke-linecap:round;stroke-width:1.5;\"/>\r\n   </g>\r\n   <g id=\"line2d_48\">\r\n    <path clip-path=\"url(#p3605b6c102)\" d=\"M 527.63558 38.508205 \r\nL 591.407009 38.508205 \r\n\" style=\"fill:none;stroke:#474747;stroke-linecap:round;stroke-width:1.5;\"/>\r\n   </g>\r\n   <g id=\"patch_10\">\r\n    <path d=\"M 41.378438 349.84275 \r\nL 41.378438 23.68275 \r\n\" style=\"fill:none;stroke:#ffffff;stroke-linecap:square;stroke-linejoin:miter;stroke-width:1.25;\"/>\r\n   </g>\r\n   <g id=\"patch_11\">\r\n    <path d=\"M 599.378438 349.84275 \r\nL 599.378438 23.68275 \r\n\" style=\"fill:none;stroke:#ffffff;stroke-linecap:square;stroke-linejoin:miter;stroke-width:1.25;\"/>\r\n   </g>\r\n   <g id=\"patch_12\">\r\n    <path d=\"M 41.378438 349.84275 \r\nL 599.378438 349.84275 \r\n\" style=\"fill:none;stroke:#ffffff;stroke-linecap:square;stroke-linejoin:miter;stroke-width:1.25;\"/>\r\n   </g>\r\n   <g id=\"patch_13\">\r\n    <path d=\"M 41.378438 23.68275 \r\nL 599.378438 23.68275 \r\n\" style=\"fill:none;stroke:#ffffff;stroke-linecap:square;stroke-linejoin:miter;stroke-width:1.25;\"/>\r\n   </g>\r\n   <g id=\"text_16\">\r\n    <!-- Ratings by Style -->\r\n    <defs>\r\n     <path d=\"M 3.078125 15.484375 \r\nL 11.765625 16.84375 \r\nQ 12.5 11.625 15.84375 8.84375 \r\nQ 19.1875 6.0625 25.203125 6.0625 \r\nQ 31.25 6.0625 34.171875 8.515625 \r\nQ 37.109375 10.984375 37.109375 14.3125 \r\nQ 37.109375 17.28125 34.515625 19 \r\nQ 32.71875 20.171875 25.53125 21.96875 \r\nQ 15.875 24.421875 12.140625 26.203125 \r\nQ 8.40625 27.984375 6.46875 31.125 \r\nQ 4.546875 34.28125 4.546875 38.09375 \r\nQ 4.546875 41.546875 6.125 44.5 \r\nQ 7.71875 47.46875 10.453125 49.421875 \r\nQ 12.5 50.921875 16.03125 51.96875 \r\nQ 19.578125 53.03125 23.640625 53.03125 \r\nQ 29.734375 53.03125 34.34375 51.265625 \r\nQ 38.96875 49.515625 41.15625 46.5 \r\nQ 43.359375 43.5 44.1875 38.484375 \r\nL 35.59375 37.3125 \r\nQ 35.015625 41.3125 32.203125 43.546875 \r\nQ 29.390625 45.796875 24.265625 45.796875 \r\nQ 18.21875 45.796875 15.625 43.796875 \r\nQ 13.03125 41.796875 13.03125 39.109375 \r\nQ 13.03125 37.40625 14.109375 36.03125 \r\nQ 15.1875 34.625 17.484375 33.6875 \r\nQ 18.796875 33.203125 25.25 31.453125 \r\nQ 34.578125 28.953125 38.25 27.359375 \r\nQ 41.9375 25.78125 44.03125 22.75 \r\nQ 46.140625 19.734375 46.140625 15.234375 \r\nQ 46.140625 10.84375 43.578125 6.953125 \r\nQ 41.015625 3.078125 36.171875 0.953125 \r\nQ 31.34375 -1.171875 25.25 -1.171875 \r\nQ 15.140625 -1.171875 9.84375 3.03125 \r\nQ 4.546875 7.234375 3.078125 15.484375 \r\nz\r\n\" id=\"ArialMT-115\"/>\r\n     <path id=\"ArialMT-32\"/>\r\n     <path d=\"M 14.703125 0 \r\nL 6.546875 0 \r\nL 6.546875 71.578125 \r\nL 15.328125 71.578125 \r\nL 15.328125 46.046875 \r\nQ 20.90625 53.03125 29.546875 53.03125 \r\nQ 34.328125 53.03125 38.59375 51.09375 \r\nQ 42.875 49.171875 45.625 45.671875 \r\nQ 48.390625 42.1875 49.953125 37.25 \r\nQ 51.515625 32.328125 51.515625 26.703125 \r\nQ 51.515625 13.375 44.921875 6.09375 \r\nQ 38.328125 -1.171875 29.109375 -1.171875 \r\nQ 19.921875 -1.171875 14.703125 6.5 \r\nz\r\nM 14.59375 26.3125 \r\nQ 14.59375 17 17.140625 12.84375 \r\nQ 21.296875 6.0625 28.375 6.0625 \r\nQ 34.125 6.0625 38.328125 11.0625 \r\nQ 42.53125 16.0625 42.53125 25.984375 \r\nQ 42.53125 36.140625 38.5 40.96875 \r\nQ 34.46875 45.796875 28.765625 45.796875 \r\nQ 23 45.796875 18.796875 40.796875 \r\nQ 14.59375 35.796875 14.59375 26.3125 \r\nz\r\n\" id=\"ArialMT-98\"/>\r\n    </defs>\r\n    <g style=\"fill:#262626;\" transform=\"translate(268.356188 17.68275)scale(0.144 -0.144)\">\r\n     <use xlink:href=\"#ArialMT-82\"/>\r\n     <use x=\"72.216797\" xlink:href=\"#ArialMT-97\"/>\r\n     <use x=\"127.832031\" xlink:href=\"#ArialMT-116\"/>\r\n     <use x=\"155.615234\" xlink:href=\"#ArialMT-105\"/>\r\n     <use x=\"177.832031\" xlink:href=\"#ArialMT-110\"/>\r\n     <use x=\"233.447266\" xlink:href=\"#ArialMT-103\"/>\r\n     <use x=\"289.0625\" xlink:href=\"#ArialMT-115\"/>\r\n     <use x=\"339.0625\" xlink:href=\"#ArialMT-32\"/>\r\n     <use x=\"366.845703\" xlink:href=\"#ArialMT-98\"/>\r\n     <use x=\"422.460938\" xlink:href=\"#ArialMT-121\"/>\r\n     <use x=\"472.460938\" xlink:href=\"#ArialMT-32\"/>\r\n     <use x=\"500.244141\" xlink:href=\"#ArialMT-83\"/>\r\n     <use x=\"566.943359\" xlink:href=\"#ArialMT-116\"/>\r\n     <use x=\"594.726562\" xlink:href=\"#ArialMT-121\"/>\r\n     <use x=\"644.726562\" xlink:href=\"#ArialMT-108\"/>\r\n     <use x=\"666.943359\" xlink:href=\"#ArialMT-101\"/>\r\n    </g>\r\n   </g>\r\n  </g>\r\n </g>\r\n <defs>\r\n  <clipPath id=\"p3605b6c102\">\r\n   <rect height=\"326.16\" width=\"558\" x=\"41.378438\" y=\"23.68275\"/>\r\n  </clipPath>\r\n </defs>\r\n</svg>\r\n",
      "image/png": "[encoded data removed]"
     },
     "metadata": {}
    }
   ],
   "source": [
    "sns.set_style('darkgrid', {'axes.facecolor': '.9'})\n",
    "sns.set(font_scale=1.2)\n",
    "\n",
    "fig, ax = plt.subplots()\n",
    "fig.set_size_inches(10,6)\n",
    "ax.set_title('Ratings by Style')\n",
    "ax.set_yticks(range(0, 6))\n",
    "\n",
    "sns.boxplot(x='Style', y='Stars', data=ramen, palette='rainbow', ax=ax)\n",
    "#sns.swarmplot(x='Style', y='Stars', data=ramen, ax=ax, color='black')\n",
    "ax.set_ylabel('Rating')"
   ]
  },
  {
   "cell_type": "code",
   "execution_count": 119,
   "metadata": {},
   "outputs": [
    {
     "output_type": "execute_result",
     "data": {
      "text/plain": [
       "386"
      ]
     },
     "metadata": {},
     "execution_count": 119
    }
   ],
   "source": [
    "ramen[ramen['Stars'] == 5]['Stars'].count()"
   ]
  },
  {
   "cell_type": "code",
   "execution_count": 120,
   "metadata": {},
   "outputs": [
    {
     "output_type": "execute_result",
     "data": {
      "text/plain": [
       "4.000    393\n",
       "5.000    386\n",
       "3.750    349\n",
       "3.500    335\n",
       "3.000    175\n",
       "3.250    170\n",
       "4.250    143\n",
       "4.500    135\n",
       "2.750     85\n",
       "2.000     68\n",
       "2.500     67\n",
       "4.750     64\n",
       "1.500     37\n",
       "1.750     27\n",
       "1.000     26\n",
       "0.000     26\n",
       "2.250     21\n",
       "0.500     14\n",
       "0.250     11\n",
       "1.250     10\n",
       "4.300      4\n",
       "3.800      3\n",
       "2.900      2\n",
       "2.800      2\n",
       "3.100      2\n",
       "2.300      2\n",
       "1.100      2\n",
       "4.125      2\n",
       "3.650      1\n",
       "3.600      1\n",
       "3.700      1\n",
       "3.400      1\n",
       "3.125      1\n",
       "2.850      1\n",
       "0.100      1\n",
       "1.800      1\n",
       "3.200      1\n",
       "2.100      1\n",
       "3.300      1\n",
       "2.125      1\n",
       "0.750      1\n",
       "0.900      1\n",
       "Name: Stars, dtype: int64"
      ]
     },
     "metadata": {},
     "execution_count": 120
    }
   ],
   "source": [
    "ramen['Stars'].value_counts()"
   ]
  },
  {
   "cell_type": "code",
   "execution_count": 121,
   "metadata": {},
   "outputs": [
    {
     "output_type": "execute_result",
     "data": {
      "text/plain": [
       "      Count   Percent\n",
       "4.00    393  0.152621\n",
       "5.00    386  0.149903\n",
       "3.75    349  0.135534\n",
       "3.50    335  0.130097\n",
       "3.00    175  0.067961"
      ],
      "text/html": "<div>\n<style scoped>\n    .dataframe tbody tr th:only-of-type {\n        vertical-align: middle;\n    }\n\n    .dataframe tbody tr th {\n        vertical-align: top;\n    }\n\n    .dataframe thead th {\n        text-align: right;\n    }\n</style>\n<table border=\"1\" class=\"dataframe\">\n  <thead>\n    <tr style=\"text-align: right;\">\n      <th></th>\n      <th>Count</th>\n      <th>Percent</th>\n    </tr>\n  </thead>\n  <tbody>\n    <tr>\n      <th>4.00</th>\n      <td>393</td>\n      <td>0.152621</td>\n    </tr>\n    <tr>\n      <th>5.00</th>\n      <td>386</td>\n      <td>0.149903</td>\n    </tr>\n    <tr>\n      <th>3.75</th>\n      <td>349</td>\n      <td>0.135534</td>\n    </tr>\n    <tr>\n      <th>3.50</th>\n      <td>335</td>\n      <td>0.130097</td>\n    </tr>\n    <tr>\n      <th>3.00</th>\n      <td>175</td>\n      <td>0.067961</td>\n    </tr>\n  </tbody>\n</table>\n</div>"
     },
     "metadata": {},
     "execution_count": 121
    }
   ],
   "source": [
    "count = ramen['Stars'].value_counts()\n",
    "percent = (ramen['Stars'].value_counts())/(ramen['Stars'].count())\n",
    "table = pd.concat([count, percent], axis=1, keys=['Count', 'Percent'])\n",
    "table.head()"
   ]
  },
  {
   "source": [
    "Looking at the table of the specific ratings, theres not that many unique values of ratings given that there are 2000+ ratings in total."
   ],
   "cell_type": "markdown",
   "metadata": {}
  },
  {
   "cell_type": "code",
   "execution_count": 122,
   "metadata": {},
   "outputs": [
    {
     "output_type": "execute_result",
     "data": {
      "text/plain": [
       "array(['Japan', 'Taiwan', 'USA', 'India', 'South Korea', 'Singapore',\n",
       "       'Thailand', 'Hong Kong', 'Vietnam', 'Ghana', 'Malaysia',\n",
       "       'Indonesia', 'China', 'Nigeria', 'Germany', 'Hungary', 'Mexico',\n",
       "       'Fiji', 'Australia', 'Pakistan', 'Bangladesh', 'Canada', 'Nepal',\n",
       "       'Brazil', 'UK', 'Myanmar', 'Netherlands', 'United States',\n",
       "       'Cambodia', 'Finland', 'Sarawak', 'Philippines', 'Sweden',\n",
       "       'Colombia', 'Estonia', 'Holland', 'Poland', 'Dubai'], dtype=object)"
      ]
     },
     "metadata": {},
     "execution_count": 122
    }
   ],
   "source": [
    "ramen['Country'].unique()"
   ]
  },
  {
   "cell_type": "code",
   "execution_count": 123,
   "metadata": {},
   "outputs": [
    {
     "output_type": "execute_result",
     "data": {
      "text/plain": [
       "Review #      int64\n",
       "Brand        object\n",
       "Variety      object\n",
       "Style        object\n",
       "Country      object\n",
       "Stars       float64\n",
       "dtype: object"
      ]
     },
     "metadata": {},
     "execution_count": 123
    }
   ],
   "source": [
    "ramen.dtypes"
   ]
  },
  {
   "cell_type": "code",
   "execution_count": 124,
   "metadata": {},
   "outputs": [],
   "source": [
    "ramen.drop('Variety', axis=1, inplace=True)\n",
    "ramen.drop('Review #', axis=1, inplace=True)\n",
    "ramen.drop('Style')"
   ]
  },
  {
   "cell_type": "code",
   "execution_count": 125,
   "metadata": {},
   "outputs": [],
   "source": [
    "ramen['Brand'] = pd.Categorical(ramen['Brand'])\n",
    "ramen['Country'] = pd.Categorical(ramen['Country'])"
   ]
  },
  {
   "cell_type": "code",
   "execution_count": null,
   "metadata": {},
   "outputs": [],
   "source": []
  }
 ]
}